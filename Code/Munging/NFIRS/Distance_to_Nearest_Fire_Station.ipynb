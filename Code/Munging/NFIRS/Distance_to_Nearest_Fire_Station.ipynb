{
 "cells": [
  {
   "cell_type": "code",
   "execution_count": 3,
   "metadata": {},
   "outputs": [],
   "source": [
    "# this code takes the NFIRS Dataset and the Station_locations dataset and outputs \n",
    "# requires NFIRS_2009_2016.csv and Station_location.csv to be in the main path "
   ]
  },
  {
   "cell_type": "code",
   "execution_count": 4,
   "metadata": {},
   "outputs": [],
   "source": [
    "import os\n",
    "import pandas as pd\n",
    "import numpy as np\n",
    "import matplotlib.pyplot as plt\n",
    "\n"
   ]
  },
  {
   "cell_type": "code",
   "execution_count": 5,
   "metadata": {},
   "outputs": [],
   "source": [
    "# Change to your filepath to data and uncomment if NFIRS_2009_2016.csv not in the main path \n",
    "os.chdir('..\\Data\\Raw')"
   ]
  },
  {
   "cell_type": "code",
   "execution_count": null,
   "metadata": {},
   "outputs": [],
   "source": []
  },
  {
   "cell_type": "code",
   "execution_count": 45,
   "metadata": {},
   "outputs": [],
   "source": [
    "NFIR = pd.read_csv('NFIRS_2009_2016_geocoded_with_tract.csv',\n",
    "                   encoding='latin_1',\n",
    "                   index_col=0,\n",
    "                   low_memory=False)\n",
    "\n",
    "STATION = pd.read_csv('Fire_stations.csv',\n",
    "                   index_col=0,\n",
    "                   low_memory=False)"
   ]
  },
  {
   "cell_type": "code",
   "execution_count": 8,
   "metadata": {},
   "outputs": [],
   "source": [
    "def haversine(lat1,long1,lat2,long2):\n",
    "    earth_radius_miles = 3959\n",
    "    lat1, long1, lat2, long2 = map(np.deg2rad, [lat1, long1, lat2, long2])\n",
    "    dlat = lat2 - lat1 \n",
    "    dlong = long2 - long1\n",
    "    # haversine formula \n",
    "    hav_theta = np.sin(dlat / 2) ** 2 + np.cos(lat1) * np.cos(lat2) * np.sin(dlong/2)**2\n",
    "    theta = 2 * np.arcsin(np.sqrt(hav_theta)) \n",
    "    #  Arc Distance  = Angle * Radius  \n",
    "    total_miles = earth_radius_miles * theta   \n",
    "    return total_miles"
   ]
  },
  {
   "cell_type": "code",
   "execution_count": 46,
   "metadata": {},
   "outputs": [],
   "source": [
    "# Data Cleaning \n",
    " \n",
    "NFIR = NFIR[['STATE','X','Y']] \n",
    "NFIR = NFIR[~NFIR['X'].isnull()]\n",
    "NFIR = NFIR[NFIR.STATE.str.match('[A-Z]{2}')]\n",
    "\n",
    "# from NFIR_geocode_cleaner- swaps x,y data if it is found to be outside the Lat/Long of the US,\n",
    "# under the assumption that with said data the x,y values were reversed.  \n",
    "NFIR[['X','Y']] = NFIR[['Y','X']].where( (NFIR['X'] > 0) & (NFIR['Y'] < 0), NFIR[['X','Y']].values )\n",
    "\n",
    "\n",
    "\n",
    "STATION = STATION[['ID','STATE','X','Y']]"
   ]
  },
  {
   "cell_type": "code",
   "execution_count": 10,
   "metadata": {},
   "outputs": [
    {
     "data": {
      "text/plain": [
       "CA    3209\n",
       "NY    2851\n",
       "TX    2714\n",
       "PA    2708\n",
       "NC    1947\n",
       "GA    1899\n",
       "IL    1847\n",
       "OH    1810\n",
       "FL    1746\n",
       "MO    1578\n",
       "AL    1541\n",
       "MI    1490\n",
       "TN    1410\n",
       "AR    1346\n",
       "LA    1321\n",
       "NJ    1296\n",
       "WA    1268\n",
       "IN    1233\n",
       "OK    1203\n",
       "KY    1194\n",
       "SC    1113\n",
       "WI    1076\n",
       "VA    1025\n",
       "MS    1010\n",
       "KS     998\n",
       "MN     987\n",
       "CO     928\n",
       "IA     860\n",
       "MA     815\n",
       "OR     731\n",
       "NM     639\n",
       "AZ     602\n",
       "CT     585\n",
       "WV     573\n",
       "NE     564\n",
       "ME     549\n",
       "MD     510\n",
       "MT     478\n",
       "ID     397\n",
       "SD     387\n",
       "AK     352\n",
       "UT     349\n",
       "ND     348\n",
       "NH     326\n",
       "VT     268\n",
       "NV     261\n",
       "WY     214\n",
       "RI     164\n",
       "HI     108\n",
       "DE      90\n",
       "PR      84\n",
       "DC      37\n",
       "GU      24\n",
       "VI      13\n",
       "MP       9\n",
       "AS       2\n",
       "Name: STATE, dtype: int64"
      ]
     },
     "execution_count": 10,
     "metadata": {},
     "output_type": "execute_result"
    }
   ],
   "source": [
    "STATION['STATE'].value_counts()"
   ]
  },
  {
   "cell_type": "code",
   "execution_count": null,
   "metadata": {},
   "outputs": [],
   "source": []
  },
  {
   "cell_type": "code",
   "execution_count": 11,
   "metadata": {},
   "outputs": [],
   "source": [
    "def closest_firestation(fires,stations):\n",
    "    print(\"Running {}\".format( fires['STATE'].unique() ) )\n",
    "    distance =  haversine(   fires['X'].values.reshape(1,-1),    fires['Y'].values.reshape(1,-1),\n",
    "                          stations['X'].values.reshape(-1,1), stations['Y'].values.reshape(-1,1))\n",
    "    \n",
    "    # find minimum distance and their row indicies \n",
    "    \n",
    "    min_dist = distance.min(axis = 0)\n",
    "    \n",
    "    row_idx =  distance.argmin(axis = 0 ) \n",
    "    \n",
    "    # use row indicies to find STATION IDs\n",
    "    closest = list(stations.iloc[row_idx,0])\n",
    "    \n",
    "    # create the closest station (CS) dataframe and return it \n",
    "    CS =  pd.DataFrame( data = {'CLOSEST_STATION_ID':closest,'CLOSEST_STATION_MILES':min_dist }, index = fires.index  )\n",
    "    return CS \n"
   ]
  },
  {
   "cell_type": "code",
   "execution_count": 12,
   "metadata": {},
   "outputs": [
    {
     "ename": "IndentationError",
     "evalue": "unexpected indent (<ipython-input-12-60eeb96a2794>, line 5)",
     "output_type": "error",
     "traceback": [
      "\u001b[1;36m  File \u001b[1;32m\"<ipython-input-12-60eeb96a2794>\"\u001b[1;36m, line \u001b[1;32m5\u001b[0m\n\u001b[1;33m    STATION[ STATION['STATE'] == state] )\u001b[0m\n\u001b[1;37m    ^\u001b[0m\n\u001b[1;31mIndentationError\u001b[0m\u001b[1;31m:\u001b[0m unexpected indent\n"
     ]
    }
   ],
   "source": [
    "# Timing the largest state to see how long this will take.\n",
    "#%%timeit\n",
    "#state = 'CA'\n",
    "#CS = closest_firestation(NFIR[ NFIR['STATE'] == state ],\n",
    "#                         STATION[ STATION['STATE'] == state] )\n",
    " "
   ]
  },
  {
   "cell_type": "code",
   "execution_count": 13,
   "metadata": {},
   "outputs": [
    {
     "name": "stdout",
     "output_type": "stream",
     "text": [
      "Running ['AL']\n",
      "Running ['CA']\n",
      "Running ['AR']\n",
      "Running ['AK']\n",
      "Running ['AZ']\n",
      "Running ['FL']\n",
      "Running ['CT']\n",
      "Running ['DE']\n",
      "Running ['CO']\n",
      "Running ['DC']\n",
      "Running ['GA']\n",
      "Running ['IA']\n",
      "Running ['HI']\n",
      "Running ['IL']\n",
      "Running ['ID']\n",
      "Running ['KS']\n",
      "Running ['IN']\n",
      "Running ['KY']\n",
      "Running ['MA']\n",
      "Running ['LA']\n",
      "Running ['MD']\n",
      "Running ['MI']\n",
      "Running ['ME']\n",
      "Running ['MN']\n",
      "Running ['MO']\n",
      "Running ['NC']\n",
      "Running ['MS']\n",
      "Running ['MT']\n",
      "Running ['NJ']\n",
      "Running ['NE']\n",
      "Running ['NH']\n",
      "Running ['ND']\n",
      "Running ['NV']\n",
      "Running ['NM']\n",
      "Running ['NY']\n",
      "Running ['OH']\n",
      "Running ['OR']\n",
      "Running ['PA']\n",
      "Running ['OK']\n",
      "Running ['SD']\n",
      "Running ['RI']\n",
      "Running ['SC']\n",
      "Running ['TN']\n",
      "Running ['TX']\n",
      "Running ['VA']\n",
      "Running ['UT']\n",
      "Running ['WA']\n",
      "Running ['WI']\n",
      "Running ['VT']\n",
      "Running ['WV']\n",
      "Running ['WY']\n"
     ]
    }
   ],
   "source": [
    " CS =  pd.concat( [closest_firestation(NFIR[NFIR['STATE'] == state],\n",
    "                                      STATION[STATION['STATE']== state]) for state in NFIR['STATE'].unique() ] )"
   ]
  },
  {
   "cell_type": "code",
   "execution_count": 23,
   "metadata": {
    "scrolled": true
   },
   "outputs": [
    {
     "data": {
      "text/html": [
       "<div>\n",
       "<style scoped>\n",
       "    .dataframe tbody tr th:only-of-type {\n",
       "        vertical-align: middle;\n",
       "    }\n",
       "\n",
       "    .dataframe tbody tr th {\n",
       "        vertical-align: top;\n",
       "    }\n",
       "\n",
       "    .dataframe thead th {\n",
       "        text-align: right;\n",
       "    }\n",
       "</style>\n",
       "<table border=\"1\" class=\"dataframe\">\n",
       "  <thead>\n",
       "    <tr style=\"text-align: right;\">\n",
       "      <th></th>\n",
       "      <th>CLOSEST_STATION_ID</th>\n",
       "      <th>CLOSEST_STATION_MILES</th>\n",
       "    </tr>\n",
       "    <tr>\n",
       "      <th>ID</th>\n",
       "      <th></th>\n",
       "      <th></th>\n",
       "    </tr>\n",
       "  </thead>\n",
       "  <tbody>\n",
       "    <tr>\n",
       "      <th>rcp2_id1869</th>\n",
       "      <td>10522050</td>\n",
       "      <td>0.272937</td>\n",
       "    </tr>\n",
       "    <tr>\n",
       "      <th>rcp2_id1861</th>\n",
       "      <td>10501984</td>\n",
       "      <td>0.364839</td>\n",
       "    </tr>\n",
       "    <tr>\n",
       "      <th>rcp2_id1862</th>\n",
       "      <td>10502051</td>\n",
       "      <td>0.437141</td>\n",
       "    </tr>\n",
       "    <tr>\n",
       "      <th>rcp2_id1865</th>\n",
       "      <td>10142198</td>\n",
       "      <td>0.939515</td>\n",
       "    </tr>\n",
       "    <tr>\n",
       "      <th>rcp2_id1867</th>\n",
       "      <td>10522050</td>\n",
       "      <td>0.413671</td>\n",
       "    </tr>\n",
       "  </tbody>\n",
       "</table>\n",
       "</div>"
      ],
      "text/plain": [
       "             CLOSEST_STATION_ID  CLOSEST_STATION_MILES\n",
       "ID                                                    \n",
       "rcp2_id1869            10522050               0.272937\n",
       "rcp2_id1861            10501984               0.364839\n",
       "rcp2_id1862            10502051               0.437141\n",
       "rcp2_id1865            10142198               0.939515\n",
       "rcp2_id1867            10522050               0.413671"
      ]
     },
     "execution_count": 23,
     "metadata": {},
     "output_type": "execute_result"
    }
   ],
   "source": [
    "CS.head()"
   ]
  },
  {
   "cell_type": "code",
   "execution_count": 29,
   "metadata": {},
   "outputs": [
    {
     "data": {
      "image/png": "[encoded data removed]",
      "text/plain": [
       "<Figure size 432x288 with 1 Axes>"
      ]
     },
     "metadata": {},
     "output_type": "display_data"
    },
    {
     "data": {
      "image/png": "[encoded data removed]",
      "text/plain": [
       "<Figure size 432x288 with 1 Axes>"
      ]
     },
     "metadata": {},
     "output_type": "display_data"
    }
   ],
   "source": [
    "plt.hist(CS ['CLOSEST_STATION_MILES'],bins= 10000 )\n",
    "plt.show()\n",
    "plt.hist(CS ['CLOSEST_STATION_MILES'],bins= 10000 )\n",
    "plt.xlim([0, 5])\n",
    "plt.show()"
   ]
  },
  {
   "cell_type": "markdown",
   "metadata": {},
   "source": [
    "Output"
   ]
  },
  {
   "cell_type": "code",
   "execution_count": 30,
   "metadata": {},
   "outputs": [],
   "source": [
    "CS.to_csv('..\\Transformed\\Closest_Firestation')"
   ]
  },
  {
   "cell_type": "code",
   "execution_count": 49,
   "metadata": {},
   "outputs": [],
   "source": [
    "## Verification \n"
   ]
  },
  {
   "cell_type": "code",
   "execution_count": 50,
   "metadata": {},
   "outputs": [
    {
     "data": {
      "text/plain": [
       "True"
      ]
     },
     "execution_count": 50,
     "metadata": {},
     "output_type": "execute_result"
    }
   ],
   "source": [
    "# manual validation that the STATION_ID  that was selected for each experiment is the correct distance away\n",
    "NFIR = NFIR.merge(CS, how= 'left', left_on='ID',right_on='ID')\n",
    "test = NFIR.merge(STATION[['ID','X','Y']],how= 'left',left_on= 'CLOSEST_STATION_ID',right_on='ID' )\n",
    "\n",
    "Calculated = haversine(test['X_x'],test['Y_x'],test['X_y'],test['Y_y'])\n",
    "sum(Calculated - NFIR['CLOSEST_STATION_MILES'].values) < 1e-10\n"
   ]
  },
  {
   "cell_type": "code",
   "execution_count": null,
   "metadata": {},
   "outputs": [],
   "source": [
    "\n",
    "# TO-DO\n",
    "#1. discriptive statistics by state/county/tract. Mean dist, avg dist, max dist\n",
    "#2. replicate this methodology to Find tracts that are far away from fire stations\n",
    "#3. "
   ]
  }
 ],
 "metadata": {
  "kernelspec": {
   "display_name": "Python 3",
   "language": "python",
   "name": "python3"
  },
  "language_info": {
   "codemirror_mode": {
    "name": "ipython",
    "version": 3
   },
   "file_extension": ".py",
   "mimetype": "text/x-python",
   "name": "python",
   "nbconvert_exporter": "python",
   "pygments_lexer": "ipython3",
   "version": "3.6.5"
  }
 },
 "nbformat": 4,
 "nbformat_minor": 2
}
