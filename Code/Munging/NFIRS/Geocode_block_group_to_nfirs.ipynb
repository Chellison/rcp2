{
 "cells": [
  {
   "cell_type": "markdown",
   "metadata": {},
   "source": [
    "## GEOCODING- Add Block Group to NFIRS Data\n",
    "### 1/21/20\n",
    "Add Census block group information to NFIRS data using Census geocode API"
   ]
  },
  {
   "cell_type": "code",
   "execution_count": 1,
   "metadata": {},
   "outputs": [],
   "source": [
    "import pandas as pd\n",
    "import pathlib"
   ]
  },
  {
   "cell_type": "markdown",
   "metadata": {},
   "source": [
    "### Set filepaths"
   ]
  },
  {
   "cell_type": "code",
   "execution_count": 2,
   "metadata": {},
   "outputs": [],
   "source": [
    "nfirs_path = 'NFIRS_2009_2016_Combined_Census_Tract.csv'"
   ]
  },
  {
   "cell_type": "markdown",
   "metadata": {},
   "source": [
    "### Prep sub directories"
   ]
  },
  {
   "cell_type": "code",
   "execution_count": 3,
   "metadata": {},
   "outputs": [],
   "source": [
    "pathlib.Path(\"./data_scratch\").mkdir(parents=True, exist_ok=True)\n",
    "pathlib.Path(\"./data_scratch/input\").mkdir(parents=True, exist_ok=True)\n",
    "pathlib.Path(\"./data_scratch/output\").mkdir(parents=True, exist_ok=True)"
   ]
  },
  {
   "cell_type": "markdown",
   "metadata": {},
   "source": [
    "### Prep existing NFIRS file for Census API"
   ]
  },
  {
   "cell_type": "code",
   "execution_count": 4,
   "metadata": {},
   "outputs": [
    {
     "name": "stdout",
     "output_type": "stream",
     "text": [
      "1959106 rows\n"
     ]
    },
    {
     "data": {
      "text/html": [
       "<div>\n",
       "<style scoped>\n",
       "    .dataframe tbody tr th:only-of-type {\n",
       "        vertical-align: middle;\n",
       "    }\n",
       "\n",
       "    .dataframe tbody tr th {\n",
       "        vertical-align: top;\n",
       "    }\n",
       "\n",
       "    .dataframe thead th {\n",
       "        text-align: right;\n",
       "    }\n",
       "</style>\n",
       "<table border=\"1\" class=\"dataframe\">\n",
       "  <thead>\n",
       "    <tr style=\"text-align: right;\">\n",
       "      <th></th>\n",
       "      <th>Unique ID</th>\n",
       "      <th>Street Address</th>\n",
       "      <th>City</th>\n",
       "      <th>State</th>\n",
       "      <th>Zip</th>\n",
       "    </tr>\n",
       "  </thead>\n",
       "  <tbody>\n",
       "    <tr>\n",
       "      <td>0</td>\n",
       "      <td>rcp2_id1</td>\n",
       "      <td>1700 ANGUS WAY</td>\n",
       "      <td>JUNEAU</td>\n",
       "      <td>AK</td>\n",
       "      <td>99801</td>\n",
       "    </tr>\n",
       "    <tr>\n",
       "      <td>1</td>\n",
       "      <td>rcp2_id2</td>\n",
       "      <td>3221 PIONEER AVE</td>\n",
       "      <td>JUNEAU</td>\n",
       "      <td>AK</td>\n",
       "      <td>99801</td>\n",
       "    </tr>\n",
       "    <tr>\n",
       "      <td>2</td>\n",
       "      <td>rcp2_id3</td>\n",
       "      <td>10231 HERON WAY</td>\n",
       "      <td>JUNEAU</td>\n",
       "      <td>AK</td>\n",
       "      <td>99801</td>\n",
       "    </tr>\n",
       "    <tr>\n",
       "      <td>3</td>\n",
       "      <td>rcp2_id4</td>\n",
       "      <td>6590 GLACIER HWY</td>\n",
       "      <td>JUNEAU</td>\n",
       "      <td>AK</td>\n",
       "      <td>99801</td>\n",
       "    </tr>\n",
       "    <tr>\n",
       "      <td>4</td>\n",
       "      <td>rcp2_id5</td>\n",
       "      <td>6590 GLACIER HWY</td>\n",
       "      <td>JUNEAU</td>\n",
       "      <td>AK</td>\n",
       "      <td>99801</td>\n",
       "    </tr>\n",
       "  </tbody>\n",
       "</table>\n",
       "</div>"
      ],
      "text/plain": [
       "  Unique ID    Street Address    City State    Zip\n",
       "0  rcp2_id1    1700 ANGUS WAY  JUNEAU    AK  99801\n",
       "1  rcp2_id2  3221 PIONEER AVE  JUNEAU    AK  99801\n",
       "2  rcp2_id3   10231 HERON WAY  JUNEAU    AK  99801\n",
       "3  rcp2_id4  6590 GLACIER HWY  JUNEAU    AK  99801\n",
       "4  rcp2_id5  6590 GLACIER HWY  JUNEAU    AK  99801"
      ]
     },
     "execution_count": 4,
     "metadata": {},
     "output_type": "execute_result"
    }
   ],
   "source": [
    "# load nfirs data for batch processing\n",
    "cols_to_use = ['ID', 'state', 'street', 'city', 'zip5']\n",
    "col_dtypes = {x:str for x in cols_to_use}\n",
    "\n",
    "nfirs_lookup = pd.read_csv(nfirs_path, dtype = col_dtypes, usecols = cols_to_use, encoding='latin-1')\n",
    "\n",
    "# initial data cleaning\n",
    "rn = {'ID':'Unique ID', 'state':'State', 'street':'Street Address', 'city':'City', 'zip5':'Zip'}\n",
    "nfirs_lookup.rename(columns=rn, inplace=True)\n",
    "nfirs_lookup = nfirs_lookup[['Unique ID', 'Street Address', 'City', 'State', 'Zip']].copy()\n",
    "print(len(nfirs_lookup.index), 'rows')\n",
    "nfirs_lookup.head()"
   ]
  },
  {
   "cell_type": "code",
   "execution_count": 5,
   "metadata": {},
   "outputs": [
    {
     "name": "stdout",
     "output_type": "stream",
     "text": [
      "files 1 to 196 created\n"
     ]
    }
   ],
   "source": [
    "# split into blocks of 10K (max batch size for Census API)\n",
    "nrow = len(nfirs_lookup.index)\n",
    "file_num = 1\n",
    "cur_row = 0\n",
    "while cur_row <= nrow -1:\n",
    "    temp = nfirs_lookup.loc[cur_row:cur_row + 9999, :].copy()\n",
    "    filename = 'data_scratch//input//nfirs_part{0}.csv'.format(file_num)\n",
    "    temp.to_csv(filename, index=False, header=False)\n",
    "    file_num += 1\n",
    "    cur_row += 10000\n",
    "max_file = file_num - 1\n",
    "print('files 1 to {0} created'.format(max_file))"
   ]
  },
  {
   "cell_type": "markdown",
   "metadata": {},
   "source": [
    "### Geocode addresses through Census API\n",
    "Information on the API found here: https://geocoding.geo.census.gov/geocoder/Geocoding_Services_API.pdf\n",
    "The API accepts at most 10,000 lines in the block input.  Each file takes approximately 15-25 minutes to run.  It took approximately 48 hours of machine time to process all of the groups.  A few of the files did not process correctly -- caught by the code in the following cell -- and re-run manually.\n",
    "\n",
    "The following API parameters were used:  \n",
    "* *benchmark*=Public_AR_Census2010  \n",
    "* *vintage*=Census2010_Census2010\n",
    "\n",
    "Sample curl command:\n",
    "```\n",
    "curl --form addressFile=@nfirs_part1.csv --form benchmark=Public_AR_Census2010 --form vintage=Census2010_Census2010 https://geocoding.geo.census.gov/geocoder/geographies/addressbatch --output api_output1.csv\n",
    "```\n",
    "\n",
    "Sample Bash program:\n",
    "```\n",
    "#!/bin/bash\n",
    "\n",
    "for i in {1..196}\n",
    "do\n",
    "   lf=\"@data_scratch//input//nfirs_part${i}.csv\"\n",
    "   of=\"api_output${i}.csv\"\n",
    "   curl --form addressFile=$lf --form benchmark=Public_AR_Census2010 --form vintage=Census2010_Census2010  https://geocoding.geo.census.gov/geocoder/geographies/addressbatch --output $of\n",
    "   mv $of data_scratch/output/\n",
    "   wc -l data_scratch/output/$of\n",
    "done\n",
    "```\n",
    "\n",
    "This was run for all files 1-```max_file```, creating data_scratch/output/api_output#.csv files."
   ]
  },
  {
   "cell_type": "markdown",
   "metadata": {},
   "source": [
    "### Process Data from API"
   ]
  },
  {
   "cell_type": "markdown",
   "metadata": {},
   "source": [
    "#### Build RCP2 id to full geoid lookup"
   ]
  },
  {
   "cell_type": "code",
   "execution_count": 11,
   "metadata": {},
   "outputs": [
    {
     "name": "stdout",
     "output_type": "stream",
     "text": [
      "1959106 lines loaded\n"
     ]
    },
    {
     "data": {
      "text/html": [
       "<div>\n",
       "<style scoped>\n",
       "    .dataframe tbody tr th:only-of-type {\n",
       "        vertical-align: middle;\n",
       "    }\n",
       "\n",
       "    .dataframe tbody tr th {\n",
       "        vertical-align: top;\n",
       "    }\n",
       "\n",
       "    .dataframe thead th {\n",
       "        text-align: right;\n",
       "    }\n",
       "</style>\n",
       "<table border=\"1\" class=\"dataframe\">\n",
       "  <thead>\n",
       "    <tr style=\"text-align: right;\">\n",
       "      <th></th>\n",
       "      <th>ID</th>\n",
       "      <th>geoid</th>\n",
       "    </tr>\n",
       "  </thead>\n",
       "  <tbody>\n",
       "    <tr>\n",
       "      <td>9752</td>\n",
       "      <td>rcp2_id1</td>\n",
       "      <td>021100005001018</td>\n",
       "    </tr>\n",
       "    <tr>\n",
       "      <td>9751</td>\n",
       "      <td>rcp2_id2</td>\n",
       "      <td>021100006002006</td>\n",
       "    </tr>\n",
       "    <tr>\n",
       "      <td>9757</td>\n",
       "      <td>rcp2_id3</td>\n",
       "      <td>021100001003030</td>\n",
       "    </tr>\n",
       "    <tr>\n",
       "      <td>9756</td>\n",
       "      <td>rcp2_id4</td>\n",
       "      <td>021100004001003</td>\n",
       "    </tr>\n",
       "    <tr>\n",
       "      <td>9755</td>\n",
       "      <td>rcp2_id5</td>\n",
       "      <td>021100004001003</td>\n",
       "    </tr>\n",
       "  </tbody>\n",
       "</table>\n",
       "</div>"
      ],
      "text/plain": [
       "            ID            geoid\n",
       "9752  rcp2_id1  021100005001018\n",
       "9751  rcp2_id2  021100006002006\n",
       "9757  rcp2_id3  021100001003030\n",
       "9756  rcp2_id4  021100004001003\n",
       "9755  rcp2_id5  021100004001003"
      ]
     },
     "execution_count": 11,
     "metadata": {},
     "output_type": "execute_result"
    }
   ],
   "source": [
    "# process and append each file\n",
    "geoid_lookup = pd.DataFrame(columns=['ID', 'geoid'])\n",
    "cols = ['ID', 'address', 'match_status', 'match_type', 'matched_address', 'lat_long', 'skip1', 'skip2', 'state', 'county', 'tract', 'block']\n",
    "col_dtypes = {x:str for x in cols}\n",
    "\n",
    "for file_num in range(1, 197):\n",
    "    try:\n",
    "        filename = 'data_scratch//output//api_output{0}.csv'.format(file_num)\n",
    "        temp = pd.read_csv(filename, names=cols, dtype=col_dtypes)\n",
    "        temp['geoid'] = temp['state'] + temp['county'] + temp['tract'] + temp['block']\n",
    "        temp = temp[['ID', 'geoid']].copy()\n",
    "        geoid_lookup = geoid_lookup.append(temp)\n",
    "    except Exception as ex:\n",
    "        print('issue with file {0}: {1}'.format(file_num, ex))\n",
    "        \n",
    "geoid_lookup['sort_num'] = geoid_lookup['ID'].str.replace('^rcp2_id', '').astype(int)\n",
    "geoid_lookup.sort_values('sort_num', inplace=True)\n",
    "geoid_lookup.reset_index()\n",
    "geoid_lookup = geoid_lookup.drop('sort_num', axis='columns')\n",
    "print('{0} lines loaded'.format(len(geoid_lookup.index)))\n",
    "geoid_lookup.head()"
   ]
  },
  {
   "cell_type": "code",
   "execution_count": 12,
   "metadata": {},
   "outputs": [
    {
     "data": {
      "text/html": [
       "<div>\n",
       "<style scoped>\n",
       "    .dataframe tbody tr th:only-of-type {\n",
       "        vertical-align: middle;\n",
       "    }\n",
       "\n",
       "    .dataframe tbody tr th {\n",
       "        vertical-align: top;\n",
       "    }\n",
       "\n",
       "    .dataframe thead th {\n",
       "        text-align: right;\n",
       "    }\n",
       "</style>\n",
       "<table border=\"1\" class=\"dataframe\">\n",
       "  <thead>\n",
       "    <tr style=\"text-align: right;\">\n",
       "      <th></th>\n",
       "      <th>id</th>\n",
       "      <th>geoid_full</th>\n",
       "      <th>geoid_tract</th>\n",
       "      <th>geoid_blockgroup</th>\n",
       "    </tr>\n",
       "  </thead>\n",
       "  <tbody>\n",
       "    <tr>\n",
       "      <td>9752</td>\n",
       "      <td>rcp2_id1</td>\n",
       "      <td>021100005001018</td>\n",
       "      <td>02110000500</td>\n",
       "      <td>021100005001</td>\n",
       "    </tr>\n",
       "    <tr>\n",
       "      <td>9751</td>\n",
       "      <td>rcp2_id2</td>\n",
       "      <td>021100006002006</td>\n",
       "      <td>02110000600</td>\n",
       "      <td>021100006002</td>\n",
       "    </tr>\n",
       "    <tr>\n",
       "      <td>9757</td>\n",
       "      <td>rcp2_id3</td>\n",
       "      <td>021100001003030</td>\n",
       "      <td>02110000100</td>\n",
       "      <td>021100001003</td>\n",
       "    </tr>\n",
       "    <tr>\n",
       "      <td>9756</td>\n",
       "      <td>rcp2_id4</td>\n",
       "      <td>021100004001003</td>\n",
       "      <td>02110000400</td>\n",
       "      <td>021100004001</td>\n",
       "    </tr>\n",
       "    <tr>\n",
       "      <td>9755</td>\n",
       "      <td>rcp2_id5</td>\n",
       "      <td>021100004001003</td>\n",
       "      <td>02110000400</td>\n",
       "      <td>021100004001</td>\n",
       "    </tr>\n",
       "  </tbody>\n",
       "</table>\n",
       "</div>"
      ],
      "text/plain": [
       "            id       geoid_full  geoid_tract geoid_blockgroup\n",
       "9752  rcp2_id1  021100005001018  02110000500     021100005001\n",
       "9751  rcp2_id2  021100006002006  02110000600     021100006002\n",
       "9757  rcp2_id3  021100001003030  02110000100     021100001003\n",
       "9756  rcp2_id4  021100004001003  02110000400     021100004001\n",
       "9755  rcp2_id5  021100004001003  02110000400     021100004001"
      ]
     },
     "execution_count": 12,
     "metadata": {},
     "output_type": "execute_result"
    }
   ],
   "source": [
    "# additional cleaning\n",
    "geoid_lookup['geoid_tract'] = geoid_lookup['geoid'].str[0:11]\n",
    "geoid_lookup['geoid_blockgroup'] = geoid_lookup['geoid'].str[0:12]\n",
    "geoid_lookup.rename(columns={'geoid': 'geoid_full', 'ID': 'id'}, inplace=True)\n",
    "\n",
    "geoid_lookup.head()"
   ]
  },
  {
   "cell_type": "code",
   "execution_count": 13,
   "metadata": {},
   "outputs": [],
   "source": [
    "# export geoid lookup\n",
    "geoid_lookup.to_csv('..//Data//processed//geoid_lookup.csv', index=False)"
   ]
  },
  {
   "cell_type": "markdown",
   "metadata": {},
   "source": [
    "#### Reload NFIRS file for QC"
   ]
  },
  {
   "cell_type": "code",
   "execution_count": 14,
   "metadata": {},
   "outputs": [
    {
     "name": "stdout",
     "output_type": "stream",
     "text": [
      "320195 ids without geoid initially\n"
     ]
    },
    {
     "data": {
      "text/html": [
       "<div>\n",
       "<style scoped>\n",
       "    .dataframe tbody tr th:only-of-type {\n",
       "        vertical-align: middle;\n",
       "    }\n",
       "\n",
       "    .dataframe tbody tr th {\n",
       "        vertical-align: top;\n",
       "    }\n",
       "\n",
       "    .dataframe thead th {\n",
       "        text-align: right;\n",
       "    }\n",
       "</style>\n",
       "<table border=\"1\" class=\"dataframe\">\n",
       "  <thead>\n",
       "    <tr style=\"text-align: right;\">\n",
       "      <th></th>\n",
       "      <th>id</th>\n",
       "      <th>state</th>\n",
       "      <th>geoid</th>\n",
       "    </tr>\n",
       "  </thead>\n",
       "  <tbody>\n",
       "    <tr>\n",
       "      <td>0</td>\n",
       "      <td>rcp2_id1</td>\n",
       "      <td>AK</td>\n",
       "      <td>02110000500</td>\n",
       "    </tr>\n",
       "    <tr>\n",
       "      <td>1</td>\n",
       "      <td>rcp2_id2</td>\n",
       "      <td>AK</td>\n",
       "      <td>02110000600</td>\n",
       "    </tr>\n",
       "    <tr>\n",
       "      <td>2</td>\n",
       "      <td>rcp2_id3</td>\n",
       "      <td>AK</td>\n",
       "      <td>02110000100</td>\n",
       "    </tr>\n",
       "    <tr>\n",
       "      <td>3</td>\n",
       "      <td>rcp2_id4</td>\n",
       "      <td>AK</td>\n",
       "      <td>02110000400</td>\n",
       "    </tr>\n",
       "    <tr>\n",
       "      <td>4</td>\n",
       "      <td>rcp2_id5</td>\n",
       "      <td>AK</td>\n",
       "      <td>02110000400</td>\n",
       "    </tr>\n",
       "  </tbody>\n",
       "</table>\n",
       "</div>"
      ],
      "text/plain": [
       "         id state        geoid\n",
       "0  rcp2_id1    AK  02110000500\n",
       "1  rcp2_id2    AK  02110000600\n",
       "2  rcp2_id3    AK  02110000100\n",
       "3  rcp2_id4    AK  02110000400\n",
       "4  rcp2_id5    AK  02110000400"
      ]
     },
     "execution_count": 14,
     "metadata": {},
     "output_type": "execute_result"
    }
   ],
   "source": [
    "# load nfirs data\n",
    "cols_to_use = ['ID', 'GEOID', 'state']\n",
    "col_dtypes = {x:str for x in cols_to_use}\n",
    "\n",
    "nfirs = pd.read_csv(nfirs_path, dtype = col_dtypes, usecols = cols_to_use, encoding='latin-1')\n",
    "\n",
    "# initial data cleaning\n",
    "rn = {x: x.lower() for x in cols_to_use if x!=x.lower()}\n",
    "nfirs.rename(columns=rn, inplace=True)\n",
    "nfirs['geoid'] = (nfirs['geoid'].str[:-2].str.zfill(11))\n",
    "\n",
    "print('{0} ids without geoid initially'.format(sum(nfirs['geoid'].isna())))\n",
    "nfirs.head()"
   ]
  },
  {
   "cell_type": "code",
   "execution_count": 26,
   "metadata": {},
   "outputs": [
    {
     "name": "stdout",
     "output_type": "stream",
     "text": [
      "Match        1497750\n",
      "Orig NA       320195\n",
      "New NA        131261\n",
      "Mis-match       9900\n",
      "Name: match, dtype: int64\n"
     ]
    },
    {
     "data": {
      "text/plain": [
       "Match        0.764507\n",
       "Orig NA      0.163439\n",
       "New NA       0.067000\n",
       "Mis-match    0.005053\n",
       "Name: match, dtype: float64"
      ]
     },
     "execution_count": 26,
     "metadata": {},
     "output_type": "execute_result"
    }
   ],
   "source": [
    "comb = pd.merge(nfirs, geoid_lookup, how='left', on='id')\n",
    "comb['match'] = 'Mis-match'\n",
    "comb.loc[comb['geoid'] == comb['geoid_tract'], 'match'] = 'Match'\n",
    "comb.loc[comb['geoid_tract'].isna(), 'match'] = 'New NA'\n",
    "comb.loc[comb['geoid'].isna(), 'match'] = 'Orig NA'\n",
    "\n",
    "print(comb['match'].value_counts())\n",
    "comb['match'].value_counts(normalize=True)"
   ]
  },
  {
   "cell_type": "code",
   "execution_count": 36,
   "metadata": {},
   "outputs": [
    {
     "name": "stdout",
     "output_type": "stream",
     "text": [
      "Match        9281\n",
      "Mis-match     619\n",
      "Name: check_mismatch, dtype: int64\n"
     ]
    },
    {
     "data": {
      "text/plain": [
       "Match        0.937475\n",
       "Mis-match    0.062525\n",
       "Name: check_mismatch, dtype: float64"
      ]
     },
     "execution_count": 36,
     "metadata": {},
     "output_type": "execute_result"
    }
   ],
   "source": [
    "# check state and county for mis-matches\n",
    "comb['old_state_county'] = comb['geoid'].str[0:5]\n",
    "comb['new_state_county'] = comb['geoid_tract'].str[0:5]\n",
    "comb['check_mismatch'] = 'ignore'\n",
    "comb.loc[comb['match']=='Mis-match', 'check_mismatch'] = 'Mis-match'\n",
    "comb.loc[(comb['match']=='Mis-match') \n",
    "                & (comb['old_state_county']==comb['new_state_county']), 'check_mismatch'] = 'Match'\n",
    "\n",
    "temp = comb.loc[comb['match'] == 'Mis-match', ['id', 'check_mismatch']].copy()\n",
    "print(temp['check_mismatch'].value_counts())\n",
    "temp['check_mismatch'].value_counts(normalize=True)"
   ]
  },
  {
   "cell_type": "markdown",
   "metadata": {},
   "source": [
    "**Notes:**  \n",
    "It's unclear why there are new NA's and mis-matches.  One possibility is that the new NA's are the result of additional address cleaning from the first round that is not reflected in the latest NFIRS file.  This process used the separate, original, address fields rather than the matched addresses.  \n",
    "  \n",
    "The mis-matches could be due to different *benchmark* and *vintage* parameters for the Census API between the first round of geocoding and this version.  93% of the mis-matches line up at the state & county level."
   ]
  },
  {
   "cell_type": "markdown",
   "metadata": {},
   "source": [
    "#### Add match status to geoid_lookup"
   ]
  },
  {
   "cell_type": "code",
   "execution_count": 48,
   "metadata": {},
   "outputs": [
    {
     "data": {
      "text/plain": [
       "Match                                1497750\n",
       "Orig NA                               320195\n",
       "New NA                                131261\n",
       "Mis-match: state/county same            9281\n",
       "Mis-match: state/county different        619\n",
       "Name: match_status, dtype: int64"
      ]
     },
     "execution_count": 48,
     "metadata": {},
     "output_type": "execute_result"
    }
   ],
   "source": [
    "new_lookup = comb.loc[:, ['id', 'geoid_full', 'geoid_tract', 'geoid_blockgroup', 'match', 'check_mismatch']].copy()\n",
    "new_lookup['match_status'] = new_lookup['match']\n",
    "new_lookup.loc[new_lookup['check_mismatch']=='Match', 'match_status'] = 'Mis-match: state/county same'\n",
    "new_lookup.loc[new_lookup['check_mismatch']=='Mis-match', 'match_status'] = 'Mis-match: state/county different'\n",
    "new_lookup.drop(['match', 'check_mismatch'], axis='columns', inplace=True)\n",
    "\n",
    "# update sort\n",
    "new_lookup['sort_num'] = new_lookup['id'].str.replace('^rcp2_id', '').astype(int)\n",
    "new_lookup.sort_values('sort_num', inplace=True)\n",
    "new_lookup.reset_index()\n",
    "new_lookup = new_lookup.drop('sort_num', axis='columns')\n",
    "\n",
    "new_lookup['match_status'].value_counts()"
   ]
  },
  {
   "cell_type": "code",
   "execution_count": 52,
   "metadata": {},
   "outputs": [],
   "source": [
    "# export to csv\n",
    "new_lookup.to_csv('..//Data//processed//geoid_lookup.csv', index=False)"
   ]
  },
  {
   "cell_type": "markdown",
   "metadata": {},
   "source": [
    "**Note:**  \n",
    "Lookup file is too big for Github.  \n",
    "Manually uploaded to RCP2/02_Data/Master Data/NFIRS - National Fire Incident Reporting System/ folder on Google Drive."
   ]
  },
  {
   "cell_type": "code",
   "execution_count": null,
   "metadata": {},
   "outputs": [],
   "source": []
  }
 ],
 "metadata": {
  "kernelspec": {
   "display_name": "Python 3",
   "language": "python",
   "name": "python3"
  },
  "language_info": {
   "codemirror_mode": {
    "name": "ipython",
    "version": 3
   },
   "file_extension": ".py",
   "mimetype": "text/x-python",
   "name": "python",
   "nbconvert_exporter": "python",
   "pygments_lexer": "ipython3",
   "version": "3.6.10"
  }
 },
 "nbformat": 4,
 "nbformat_minor": 4
}
