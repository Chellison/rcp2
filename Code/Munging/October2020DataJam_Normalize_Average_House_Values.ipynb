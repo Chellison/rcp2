{
 "cells": [
  {
   "cell_type": "code",
   "execution_count": null,
   "metadata": {},
   "outputs": [],
   "source": [
    "import pandas as pd\n",
    "import numpy as np\n",
    "import matplotlib.pyplot as plt\n",
    "import seaborn as sns\n",
    "from pathlib import Path\n",
    "import json, os, sys, copy\n",
    "import statistics as stat"
   ]
  },
  {
   "cell_type": "code",
   "execution_count": null,
   "metadata": {},
   "outputs": [],
   "source": [
    "path = Path.cwd().parent.parent\n",
    "# LoadAndCleanACS = main_path /'src' /'data'/ 'LoadAndCleanACS.py'\n",
    "# %run $LoadAndCleanACS"
   ]
  },
  {
   "cell_type": "code",
   "execution_count": 5,
   "metadata": {},
   "outputs": [],
   "source": [
    "def get_average_house_value_for_block(house_value_dict, block_info):\n",
    "    \"\"\" get the average house value based on the percent of houses for each range\n",
    "    return it rounded to the 2nd decimal because its units of $\n",
    "    \"\"\"\n",
    "    ave_value = 0.0\n",
    "    for x in house_value_dict.keys():\n",
    "        # percent_of_block = block_info[x]   \n",
    "        # value_of_subset = house_value_dict[x]\n",
    "        ave_value = ave_value + float(block_info[x] * house_value_dict[x])\n",
    "    return round(ave_value,2)\n",
    "def make_inverted_data_dict(data_path):\n",
    "    \n",
    "    #Set up value conversion\n",
    "    # ordered list of house value ranges\n",
    "    ordered_key_vals = ['house_val_less_10K', 'house_val_10K_15K', 'house_val_15K_20K', 'house_val_20K_25K', 'house_val_25K_30K', 'house_val_30K_35K', 'house_val_35K_40K', 'house_val_40K_50K', 'house_val_50K_60K', 'house_val_60K_70K', 'house_val_70K_80K', 'house_val_80K_90K', 'house_val_90K_100K', 'house_val_100K_125K', 'house_val_125K_150K', 'house_val_150K_175K', 'house_val_175K_200K', 'house_val_200K_250K', 'house_val_250K_300K', 'house_val_300K_400K', 'house_val_400K_500K', 'house_val_500K_750K', 'house_val_750K_1M', 'house_val_1M_1.5M', 'house_val_1.5M_2M', 'house_val_more_2M']\n",
    "\n",
    "    # convert the house value ranges to averages (int)\n",
    "    # the ordered average of each house value range\n",
    "    # Assumed the ends (<10k & >2M where 10k and 2M, respectively)\n",
    "    ave_house_valrange = [1000,12500,17500,22500,27500,32500,37500,45000,55000,65000,75000,85000,95000,112500,137500,162500,187500,225000,275000 ,350000 ,450000 ,625000 ,875000 ,1250000,1750000,2000000]\n",
    "\n",
    "    # convert to searchable dict\n",
    "    house_value_dict = {}\n",
    "    for i in range(0, len(ordered_key_vals)):\n",
    "        house_value_dict[ordered_key_vals[i]] = ave_house_valrange[i]\n",
    "        \n",
    "    data_invert = pd.read_csv(data_path)\n",
    "    data_invert = dict(data_invert.T)\n",
    "    for x in range(0, len(data_invert)):\n",
    "        ave_value = get_average_house_value_for_block(house_value_dict, data_invert[x])\n",
    "        data_invert[x][\"ave_home_val\"] = ave_value\n",
    "    return data_invert\n",
    "##############################\n",
    "def get_county_dict(data_path, data_invert):\n",
    "    \"\"\"This get a custom dictionary of county data, that will be saved in a JSON file for future loading\"\"\"\n",
    "    \n",
    "    # Load saved versions of county data if run previously\n",
    "    if os.path.exists(data_path + \"county_dict_simple.json\"):\n",
    "        with open(data_path + \"county_dict_simple.json\",'r') as json_file:\n",
    "            county_dict = json.load(json_file)\n",
    "        return county_dict\n",
    "    \n",
    "    ##############ELSE NEED TO GENERATE DATA WHICH IS SLOW\n",
    "    print(\"Gathering average home data. This will take a few minutes the first time...\")\n",
    "\n",
    "\n",
    "    # determine the average cost of a home within a county. \n",
    "    # This will be used to normalize each block groups housing info\n",
    "    county_dict = {}\n",
    "    for x in range(0, len(data_invert)):\n",
    "        county_ID = data_invert[x][\"county_name\"] +  data_invert[x][\"state_name\"]\n",
    "        if county_ID in county_dict:\n",
    "            temp_vals = county_dict[county_ID][0]\n",
    "            temp_geos = county_dict[county_ID][1]\n",
    "            state_name = county_dict[county_ID][2]\n",
    "            tot_population = county_dict[county_ID][3]\n",
    "\n",
    "            temp_vals.append(data_invert[x][\"ave_home_val\"])\n",
    "            temp_geos.append(data_invert[x][\"GEOID\"])\n",
    "            state_name.append(data_invert[x][\"state_name\"])\n",
    "            tot_population.append(data_invert[x][\"tot_population\"])\n",
    "\n",
    "        else:\n",
    "            temp_vals = [data_invert[x][\"ave_home_val\"]]\n",
    "            temp_geos = [data_invert[x][\"GEOID\"]]\n",
    "            state_name = [data_invert[x][\"state_name\"]]\n",
    "            tot_population = [data_invert[x][\"tot_population\"]]\n",
    "\n",
    "\n",
    "        county_dict[county_ID] = [temp_vals, temp_geos, state_name, tot_population]\n",
    "\n",
    "    # SAVE TO JSON FILE FOR EASY LOAD IF RERUN\n",
    "    with open(data_path + \"county_dict_simple.json\", 'w') as outfile:\n",
    "        json.dump(county_dict, outfile)\n",
    "    return county_dict\n",
    "##############################\n",
    "def countywide_COLA_per_person(info_list):\n",
    "    \"\"\"\n",
    "    Some blocks have more residents and likely more homes or multifamily complexes.\n",
    "    \n",
    "    Thus it makes sense to multiple each average house value by the respective block's population\n",
    "    before taking the average home value per county. This may have biases for denser/city areas.\n",
    "    \n",
    "    We can then divide the sum of these adjust vals by the total county size.\n",
    "    \n",
    "    This provides an estimate of the average cost of living accomidations (COLA) per person in the county\n",
    "    \n",
    "    ****THIS METHOD IS JUST TO WEIGHT THE HOUSE VALS BY POPULATION. IT IS NOT A TRUE COLA ***\n",
    "    ****THIS ALSO ASSUMES 1 HOUSE PER PERSON SO NOT SO REALISTIC ****\n",
    "    \n",
    "    Returns countywide_COLA_adjust_ave_home_val \n",
    "    \"\"\"\n",
    "    average_list = info_list[0]\n",
    "    pop_list = info_list[3]\n",
    "    adjusted_list = []\n",
    "    pop_counter = 0\n",
    "    for i in range(0, len(average_list)):\n",
    "        if type(average_list[i])!=float: continue\n",
    "        adjusted_h_val = average_list[i] * pop_list[i]\n",
    "        adjusted_list.append(adjusted_h_val)\n",
    "        pop_counter = pop_counter + pop_list[i]\n",
    "\n",
    "    countywide_COLA_adjust_ave_home_val = sum(adjusted_list) / pop_counter\n",
    "    return countywide_COLA_adjust_ave_home_val\n",
    "####################################\n"
   ]
  },
  {
   "cell_type": "code",
   "execution_count": 6,
   "metadata": {},
   "outputs": [
    {
     "name": "stdout",
     "output_type": "stream",
     "text": [
      "Loading data. May take a few min\n",
      "Done. Data loaded\n"
     ]
    }
   ],
   "source": [
    "# PATH TO DATA FOLDER\n",
    "path = Path.cwd().parent.parent\n",
    "main_path = Path.cwd().parent.parent\n",
    "top_data_path = main_path / 'Data' \n",
    "top_data_path =str(top_data_path) + os.sep\n",
    "\n",
    "data_path = str(path) +os.sep+ str(os.sep).join([\"Data\",\"Master Project Data\",\"ACS 5YR Block Group Data.csv\"])\n",
    "print(\"Loading data. May take a few min\")\n",
    "data_invert = make_inverted_data_dict(data_path)\n",
    "print(\"Done. Data loaded\")"
   ]
  },
  {
   "cell_type": "code",
   "execution_count": 14,
   "metadata": {},
   "outputs": [
    {
     "name": "stdout",
     "output_type": "stream",
     "text": [
      "\n",
      "Get average values, now lets normalize each block's ave_home_val by its respective county average home val\n"
     ]
    }
   ],
   "source": [
    "# Load saved versions of county data if run previously\n",
    "if os.path.exists(top_data_path + \"countywide_home_averages.json\")==True:\n",
    "\n",
    "    with open(top_data_path + \"countywide_home_averages.json\",'r') as json_file:\n",
    "        master_county_averages_dict = json.load(json_file)\n",
    "    county_dict = get_county_dict(top_data_path, data_invert)\n",
    "else:\n",
    "\n",
    "    county_dict = get_county_dict(top_data_path, data_invert)\n",
    "\n",
    "    #Run a precaution check. If good should print nothing\n",
    "    for x in county_dict.keys():\n",
    "        test = list(set(list(county_dict[x][2])))\n",
    "    if len(test) != 1:\n",
    "        print(\"FAIL\", test,x)\n",
    "\n",
    "    # Make smaller dict of county wide average home costs.\n",
    "    # there will be 2 averages, 1 with no weighting (simple average 1 for 1 per block) i.e.,\n",
    "    #    ave_val = mean([average_home_val_per_block])\n",
    "    # and the other wieghted by population i.e.,\n",
    "    #    weighted_by_pop_ave_val = sum([average_home_val_per_block * pop_per_block for blocks in county]) / total_pop_of_county\n",
    "    master_county_averages_dict = {}\n",
    "    for county_ID in county_dict.keys():\n",
    "        info_list = county_dict[county_ID]\n",
    "        raw_ave = stat.mean([x for x in info_list[0] if type(x)==float])\n",
    "        countywide_COLA_adjust_ave_home_val = countywide_COLA_per_person(info_list)\n",
    "        master_county_averages_dict[county_ID] = [raw_ave, countywide_COLA_adjust_ave_home_val]\n",
    "    master_county_averages_dict\n",
    "\n",
    "    # SAVE TO JSON FILE FOR EASY LOAD IF RERUN\n",
    "    with open(top_data_path + \"countywide_home_averages.json\", 'w') as outfile:\n",
    "        json.dump(master_county_averages_dict, outfile)\n",
    "\n",
    "print(\"\\nGet average values, now lets normalize each block's ave_home_val by its respective county average home val\")\n"
   ]
  },
  {
   "cell_type": "code",
   "execution_count": 24,
   "metadata": {},
   "outputs": [
    {
     "name": "stdout",
     "output_type": "stream",
     "text": [
      "DONE\n"
     ]
    }
   ],
   "source": [
    "for x in range(0, len(data_invert)):\n",
    "    ave_value = data_invert[x][\"ave_home_val\"]\n",
    "    county_ID = data_invert[x][\"county_name\"] +  data_invert[x][\"state_name\"]\n",
    "#     master_county_averages_dict[ave_value]\n",
    "    normalized_ave_home_val_by_county_average = float(ave_value / master_county_averages_dict[county_ID][0])\n",
    "    normalized_ave_home_val_by_county_average_PopWeighted = float(ave_value / master_county_averages_dict[county_ID][1])\n",
    "    data_invert[x][\"normalized_ave_home_val_by_county_average\"] = normalized_ave_home_val_by_county_average\n",
    "    data_invert[x][\"normalized_ave_home_val_by_county_average_PopWeighted\"] = normalized_ave_home_val_by_county_average_PopWeighted\n",
    "\n",
    "    \n",
    "data = pd.DataFrame.from_dict(data_invert)\n",
    "data= data.T\n",
    "\n",
    "outfile = top_data_path + \"ACS_5YR_Block_Group_Data_w_Normalized_Ave_Home_Vals.csv\"\n",
    "data.to_csv(outfile)\n",
    "print(\"DONE WITH NORMALIZING DATA\")\n",
    "print(\"Data with the Normalized_Ave_Home_Vals is written to:{}\".format(outfile))"
   ]
  },
  {
   "cell_type": "code",
   "execution_count": null,
   "metadata": {},
   "outputs": [],
   "source": []
  },
  {
   "cell_type": "code",
   "execution_count": null,
   "metadata": {},
   "outputs": [],
   "source": []
  },
  {
   "cell_type": "code",
   "execution_count": null,
   "metadata": {},
   "outputs": [],
   "source": []
  },
  {
   "cell_type": "code",
   "execution_count": null,
   "metadata": {},
   "outputs": [],
   "source": []
  },
  {
   "cell_type": "code",
   "execution_count": null,
   "metadata": {},
   "outputs": [],
   "source": []
  }
 ],
 "metadata": {
  "kernelspec": {
   "display_name": "Python 3",
   "language": "python",
   "name": "python3"
  },
  "language_info": {
   "codemirror_mode": {
    "name": "ipython",
    "version": 3
   },
   "file_extension": ".py",
   "mimetype": "text/x-python",
   "name": "python",
   "nbconvert_exporter": "python",
   "pygments_lexer": "ipython3",
   "version": "3.7.4"
  }
 },
 "nbformat": 4,
 "nbformat_minor": 4
}