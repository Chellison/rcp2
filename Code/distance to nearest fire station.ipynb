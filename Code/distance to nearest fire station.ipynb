{
 "cells": [
  {
   "cell_type": "code",
   "execution_count": 1,
   "metadata": {},
   "outputs": [],
   "source": [
    "# this code takes the NFIRS Dataset and the Station_locations dataset and outputs \n",
    "# requires NFIRS_2009_2016.csv and Station_location.csv to be in the main path "
   ]
  },
  {
   "cell_type": "code",
   "execution_count": 1,
   "metadata": {},
   "outputs": [],
   "source": [
    "import os\n",
    "import pandas as pd\n",
    "import numpy as np\n",
    "import matplotlib.pyplot as plt\n",
    "\n"
   ]
  },
  {
   "cell_type": "code",
   "execution_count": 2,
   "metadata": {},
   "outputs": [],
   "source": [
    "# Change to your filepath to data and uncomment if NFIRS_2009_2016.csv not in the main path \n",
    "os.chdir('../Data/Raw')"
   ]
  },
  {
   "cell_type": "code",
   "execution_count": 3,
   "metadata": {},
   "outputs": [],
   "source": [
    "NFIR = pd.read_csv('NFIRS_2009_2016_geocoded_with_tract.csv',\n",
    "                   encoding='latin_1',\n",
    "                   index_col=0,\n",
    "                   low_memory=False)\n",
    "\n",
    "STATION = pd.read_csv('Fire_stations.csv',\n",
    "                   index_col=0,\n",
    "                   low_memory=False)"
   ]
  },
  {
   "cell_type": "code",
   "execution_count": 4,
   "metadata": {},
   "outputs": [],
   "source": [
    "def haversine(lat1,long1,lat2,long2):\n",
    "    earth_radius_miles = 3959\n",
    "    lat1, long1, lat2, long2 = map(np.deg2rad, [lat1, long1, lat2, long2])\n",
    "    dlat = lat2 - lat1 \n",
    "    dlong = long2 - long1\n",
    "    # haversine formula \n",
    "    hav_theta = np.sin(dlat / 2) ** 2 + np.cos(lat1) * np.cos(lat2) * np.sin(dlong/2)**2\n",
    "    theta = 2 * np.arcsin(np.sqrt(hav_theta)) \n",
    "    #  Arc Distance  = Angle * Radius  \n",
    "    total_miles = earth_radius_miles * theta   \n",
    "    return total_miles"
   ]
  },
  {
   "cell_type": "code",
   "execution_count": 5,
   "metadata": {},
   "outputs": [],
   "source": [
    "\n",
    "NFIR = NFIR[['X','Y']] \n",
    "NFIR =  NFIR[~NFIR['X'].isnull()]"
   ]
  },
  {
   "cell_type": "code",
   "execution_count": 6,
   "metadata": {},
   "outputs": [],
   "source": [
    "STATION = STATION[['ID','X','Y']]"
   ]
  },
  {
   "cell_type": "code",
   "execution_count": 7,
   "metadata": {},
   "outputs": [],
   "source": [
    "def closest_firestation(lat,long,df):\n",
    "    distance =  haversine(lat, long, df['X'].values.reshape(-1,1), df['Y'].values.reshape(-1,1))\n",
    "    min_dist = distance.min(axis = 0)\n",
    "    closest = df[distance == min_dist]['ID']\n",
    "    return min_dist, closest \n"
   ]
  },
  {
   "cell_type": "code",
   "execution_count": 8,
   "metadata": {},
   "outputs": [
    {
     "name": "stdout",
     "output_type": "stream",
     "text": [
      "9.76 ms ± 181 µs per loop (mean ± std. dev. of 7 runs, 100 loops each)\n"
     ]
    }
   ],
   "source": [
    "%%timeit\n",
    "\n",
    "test,close = closest_firestation(NFIR['X'][0:3].values.reshape(1,-1),NFIR['Y'][0:3].values.reshape(1,-1),STATION)"
   ]
  },
  {
   "cell_type": "code",
   "execution_count": null,
   "metadata": {},
   "outputs": [],
   "source": [
    "# ms * num_rows/sec_per_min/ms_per_sec/num_rows = number of minutes \n",
    "9.58*1645298/60/1000/3"
   ]
  },
  {
   "cell_type": "code",
   "execution_count": null,
   "metadata": {},
   "outputs": [],
   "source": [
    "\n",
    "NFIR['H_DIST'],NFIR['CLOSEST_STATION_ID'] = closest_firestation(NFIR['X'].values.reshape(1,-1),\n",
    "                                                                NFIR['Y'].values.reshape(1,-1),\n",
    "                                                                STATION)"
   ]
  },
  {
   "cell_type": "code",
   "execution_count": null,
   "metadata": {
    "scrolled": true
   },
   "outputs": [],
   "source": []
  },
  {
   "cell_type": "markdown",
   "metadata": {},
   "source": [
    "Output"
   ]
  },
  {
   "cell_type": "code",
   "execution_count": null,
   "metadata": {},
   "outputs": [],
   "source": [
    "x = np.zeros((1,10))\n",
    "t = np.ones((5,1))\n",
    "z =x - t\n",
    "z.min(axis= 1)"
   ]
  },
  {
   "cell_type": "code",
   "execution_count": null,
   "metadata": {},
   "outputs": [],
   "source": [
    "NFIR.head()"
   ]
  },
  {
   "cell_type": "code",
   "execution_count": null,
   "metadata": {},
   "outputs": [],
   "source": []
  }
 ],
 "metadata": {
  "kernelspec": {
   "display_name": "Python 3",
   "language": "python",
   "name": "python3"
  },
  "language_info": {
   "codemirror_mode": {
    "name": "ipython",
    "version": 3
   },
   "file_extension": ".py",
   "mimetype": "text/x-python",
   "name": "python",
   "nbconvert_exporter": "python",
   "pygments_lexer": "ipython3",
   "version": "3.6.4"
  }
 },
 "nbformat": 4,
 "nbformat_minor": 2
}
