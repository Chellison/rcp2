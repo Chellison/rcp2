{
 "cells": [
  {
   "cell_type": "code",
   "execution_count": 1,
   "metadata": {},
   "outputs": [],
   "source": [
    "# this code takes the NFIRS Dataset and Finds the percentage of data missing from each column\n",
    "#\n",
    "# requires NFIRS_2009_2016_geocoded_with_tract.csv to be in the main path "
   ]
  },
  {
   "cell_type": "code",
   "execution_count": 1,
   "metadata": {},
   "outputs": [],
   "source": [
    "import os\n",
    "import pandas as pd\n",
    "import matplotlib.pyplot as plt\n",
    "import numpy as np \n",
    "import datetime\n",
    "import geopandas as gpd\n",
    "import glob\n",
    "import seaborn as sns"
   ]
  },
  {
   "cell_type": "code",
   "execution_count": 2,
   "metadata": {},
   "outputs": [
    {
     "data": {
      "text/plain": [
       "'/Users/kelson/Documents/DataKind/Red_Cross_Fire/Data/Transformed'"
      ]
     },
     "execution_count": 2,
     "metadata": {},
     "output_type": "execute_result"
    }
   ],
   "source": [
    "# Change to your filepath to data and uncomment if NFIRS_2009_2016_geocoded_with_tract.csv not in the main path \n",
    "os.chdir('..//Data//Transformed')\n",
    "os.getcwd()"
   ]
  },
  {
   "cell_type": "code",
   "execution_count": null,
   "metadata": {},
   "outputs": [],
   "source": []
  },
  {
   "cell_type": "code",
   "execution_count": 10,
   "metadata": {},
   "outputs": [],
   "source": [
    "\n",
    "\n",
    "\n",
    "NFIR = pd.read_csv('NFIRS_2009_2016_Combined_CensusBlock.csv',\n",
    "                   encoding='latin_1',\n",
    "                   index_col=0,\n",
    "                   low_memory=False)\n",
    "\n",
    "\n",
    "\n"
   ]
  },
  {
   "cell_type": "code",
   "execution_count": 11,
   "metadata": {},
   "outputs": [
    {
     "data": {
      "text/html": [
       "<div>\n",
       "<style scoped>\n",
       "    .dataframe tbody tr th:only-of-type {\n",
       "        vertical-align: middle;\n",
       "    }\n",
       "\n",
       "    .dataframe tbody tr th {\n",
       "        vertical-align: top;\n",
       "    }\n",
       "\n",
       "    .dataframe thead th {\n",
       "        text-align: right;\n",
       "    }\n",
       "</style>\n",
       "<table border=\"1\" class=\"dataframe\">\n",
       "  <thead>\n",
       "    <tr style=\"text-align: right;\">\n",
       "      <th></th>\n",
       "      <th>state</th>\n",
       "      <th>fdid</th>\n",
       "      <th>inc_no</th>\n",
       "      <th>city</th>\n",
       "      <th>street</th>\n",
       "      <th>zip5</th>\n",
       "      <th>lat</th>\n",
       "      <th>lon</th>\n",
       "      <th>fips</th>\n",
       "      <th>inc_date</th>\n",
       "      <th>...</th>\n",
       "      <th>ORIGINAL_ADDRESS</th>\n",
       "      <th>STATE</th>\n",
       "      <th>STATEFP</th>\n",
       "      <th>TIGER_LINE_ID</th>\n",
       "      <th>TIGER_LINE_SIDE</th>\n",
       "      <th>TRACTCE</th>\n",
       "      <th>X</th>\n",
       "      <th>Y</th>\n",
       "      <th>rownum</th>\n",
       "      <th>state_fips</th>\n",
       "    </tr>\n",
       "    <tr>\n",
       "      <th>ID</th>\n",
       "      <th></th>\n",
       "      <th></th>\n",
       "      <th></th>\n",
       "      <th></th>\n",
       "      <th></th>\n",
       "      <th></th>\n",
       "      <th></th>\n",
       "      <th></th>\n",
       "      <th></th>\n",
       "      <th></th>\n",
       "      <th></th>\n",
       "      <th></th>\n",
       "      <th></th>\n",
       "      <th></th>\n",
       "      <th></th>\n",
       "      <th></th>\n",
       "      <th></th>\n",
       "      <th></th>\n",
       "      <th></th>\n",
       "      <th></th>\n",
       "      <th></th>\n",
       "    </tr>\n",
       "  </thead>\n",
       "  <tbody>\n",
       "    <tr>\n",
       "      <th>rcp2_id1</th>\n",
       "      <td>AK</td>\n",
       "      <td>11100</td>\n",
       "      <td>211</td>\n",
       "      <td>JUNEAU</td>\n",
       "      <td>1700 ANGUS WAY</td>\n",
       "      <td>99801</td>\n",
       "      <td>NaN</td>\n",
       "      <td>NaN</td>\n",
       "      <td>NaN</td>\n",
       "      <td>1/3/2009 0:00:00</td>\n",
       "      <td>...</td>\n",
       "      <td>1700 ANGUS WAY, JUNEAU, AK, 99801</td>\n",
       "      <td>AK</td>\n",
       "      <td>2.0</td>\n",
       "      <td>190964136.0</td>\n",
       "      <td>R</td>\n",
       "      <td>500.0</td>\n",
       "      <td>-134.42440</td>\n",
       "      <td>58.306507</td>\n",
       "      <td>NaN</td>\n",
       "      <td>2.0</td>\n",
       "    </tr>\n",
       "    <tr>\n",
       "      <th>rcp2_id2</th>\n",
       "      <td>AK</td>\n",
       "      <td>11100</td>\n",
       "      <td>470</td>\n",
       "      <td>JUNEAU</td>\n",
       "      <td>3221 PIONEER AVE</td>\n",
       "      <td>99801</td>\n",
       "      <td>NaN</td>\n",
       "      <td>NaN</td>\n",
       "      <td>NaN</td>\n",
       "      <td>1/6/2009 0:00:00</td>\n",
       "      <td>...</td>\n",
       "      <td>3221 PIONEER AVE, JUNEAU, AK, 99801</td>\n",
       "      <td>AK</td>\n",
       "      <td>2.0</td>\n",
       "      <td>190966361.0</td>\n",
       "      <td>R</td>\n",
       "      <td>600.0</td>\n",
       "      <td>-134.43314</td>\n",
       "      <td>58.292686</td>\n",
       "      <td>NaN</td>\n",
       "      <td>2.0</td>\n",
       "    </tr>\n",
       "    <tr>\n",
       "      <th>rcp2_id3</th>\n",
       "      <td>AK</td>\n",
       "      <td>11100</td>\n",
       "      <td>556</td>\n",
       "      <td>JUNEAU</td>\n",
       "      <td>10231 HERON WAY</td>\n",
       "      <td>99801</td>\n",
       "      <td>NaN</td>\n",
       "      <td>NaN</td>\n",
       "      <td>NaN</td>\n",
       "      <td>1/6/2009 0:00:00</td>\n",
       "      <td>...</td>\n",
       "      <td>10231 HERON WAY, JUNEAU, AK, 99801</td>\n",
       "      <td>AK</td>\n",
       "      <td>2.0</td>\n",
       "      <td>190962538.0</td>\n",
       "      <td>R</td>\n",
       "      <td>100.0</td>\n",
       "      <td>-134.60330</td>\n",
       "      <td>58.402610</td>\n",
       "      <td>NaN</td>\n",
       "      <td>2.0</td>\n",
       "    </tr>\n",
       "    <tr>\n",
       "      <th>rcp2_id4</th>\n",
       "      <td>AK</td>\n",
       "      <td>11100</td>\n",
       "      <td>1315</td>\n",
       "      <td>JUNEAU</td>\n",
       "      <td>6590 GLACIER HWY</td>\n",
       "      <td>99801</td>\n",
       "      <td>NaN</td>\n",
       "      <td>NaN</td>\n",
       "      <td>NaN</td>\n",
       "      <td>1/13/2009 0:00:00</td>\n",
       "      <td>...</td>\n",
       "      <td>6590 GLACIER HWY, JUNEAU,  AK,  99801</td>\n",
       "      <td>AK</td>\n",
       "      <td>2.0</td>\n",
       "      <td>190963741.0</td>\n",
       "      <td>R</td>\n",
       "      <td>400.0</td>\n",
       "      <td>-134.51932</td>\n",
       "      <td>58.358955</td>\n",
       "      <td>NaN</td>\n",
       "      <td>2.0</td>\n",
       "    </tr>\n",
       "    <tr>\n",
       "      <th>rcp2_id5</th>\n",
       "      <td>AK</td>\n",
       "      <td>11100</td>\n",
       "      <td>2151</td>\n",
       "      <td>JUNEAU</td>\n",
       "      <td>6590 GLACIER HWY</td>\n",
       "      <td>99801</td>\n",
       "      <td>NaN</td>\n",
       "      <td>NaN</td>\n",
       "      <td>NaN</td>\n",
       "      <td>1/21/2009 0:00:00</td>\n",
       "      <td>...</td>\n",
       "      <td>6590 GLACIER HWY, JUNEAU,  AK,  99801</td>\n",
       "      <td>AK</td>\n",
       "      <td>2.0</td>\n",
       "      <td>190963741.0</td>\n",
       "      <td>R</td>\n",
       "      <td>400.0</td>\n",
       "      <td>-134.51932</td>\n",
       "      <td>58.358955</td>\n",
       "      <td>NaN</td>\n",
       "      <td>2.0</td>\n",
       "    </tr>\n",
       "  </tbody>\n",
       "</table>\n",
       "<p>5 rows × 52 columns</p>\n",
       "</div>"
      ],
      "text/plain": [
       "         state   fdid inc_no    city            street   zip5  lat  lon  fips  \\\n",
       "ID                                                                              \n",
       "rcp2_id1    AK  11100    211  JUNEAU    1700 ANGUS WAY  99801  NaN  NaN   NaN   \n",
       "rcp2_id2    AK  11100    470  JUNEAU  3221 PIONEER AVE  99801  NaN  NaN   NaN   \n",
       "rcp2_id3    AK  11100    556  JUNEAU   10231 HERON WAY  99801  NaN  NaN   NaN   \n",
       "rcp2_id4    AK  11100   1315  JUNEAU  6590 GLACIER HWY  99801  NaN  NaN   NaN   \n",
       "rcp2_id5    AK  11100   2151  JUNEAU  6590 GLACIER HWY  99801  NaN  NaN   NaN   \n",
       "\n",
       "                   inc_date  ...                       ORIGINAL_ADDRESS  \\\n",
       "ID                           ...                                          \n",
       "rcp2_id1   1/3/2009 0:00:00  ...      1700 ANGUS WAY, JUNEAU, AK, 99801   \n",
       "rcp2_id2   1/6/2009 0:00:00  ...    3221 PIONEER AVE, JUNEAU, AK, 99801   \n",
       "rcp2_id3   1/6/2009 0:00:00  ...     10231 HERON WAY, JUNEAU, AK, 99801   \n",
       "rcp2_id4  1/13/2009 0:00:00  ...  6590 GLACIER HWY, JUNEAU,  AK,  99801   \n",
       "rcp2_id5  1/21/2009 0:00:00  ...  6590 GLACIER HWY, JUNEAU,  AK,  99801   \n",
       "\n",
       "          STATE  STATEFP  TIGER_LINE_ID  TIGER_LINE_SIDE  TRACTCE          X  \\\n",
       "ID                                                                             \n",
       "rcp2_id1     AK      2.0    190964136.0                R    500.0 -134.42440   \n",
       "rcp2_id2     AK      2.0    190966361.0                R    600.0 -134.43314   \n",
       "rcp2_id3     AK      2.0    190962538.0                R    100.0 -134.60330   \n",
       "rcp2_id4     AK      2.0    190963741.0                R    400.0 -134.51932   \n",
       "rcp2_id5     AK      2.0    190963741.0                R    400.0 -134.51932   \n",
       "\n",
       "                  Y rownum state_fips  \n",
       "ID                                     \n",
       "rcp2_id1  58.306507    NaN        2.0  \n",
       "rcp2_id2  58.292686    NaN        2.0  \n",
       "rcp2_id3  58.402610    NaN        2.0  \n",
       "rcp2_id4  58.358955    NaN        2.0  \n",
       "rcp2_id5  58.358955    NaN        2.0  \n",
       "\n",
       "[5 rows x 52 columns]"
      ]
     },
     "execution_count": 11,
     "metadata": {},
     "output_type": "execute_result"
    }
   ],
   "source": [
    "NFIR.head()"
   ]
  },
  {
   "cell_type": "code",
   "execution_count": null,
   "metadata": {},
   "outputs": [],
   "source": []
  },
  {
   "cell_type": "code",
   "execution_count": 6,
   "metadata": {},
   "outputs": [],
   "source": [
    "\n",
    "# the selection of state is arbitrary except we know that it should excist in all entries "
   ]
  },
  {
   "cell_type": "code",
   "execution_count": 7,
   "metadata": {},
   "outputs": [
    {
     "ename": "NameError",
     "evalue": "name 'OUT' is not defined",
     "output_type": "error",
     "traceback": [
      "\u001b[0;31m---------------------------------------------------------------------------\u001b[0m",
      "\u001b[0;31mNameError\u001b[0m                                 Traceback (most recent call last)",
      "\u001b[0;32m<ipython-input-7-7c571886c2b7>\u001b[0m in \u001b[0;36m<module>\u001b[0;34m()\u001b[0m\n\u001b[1;32m      1\u001b[0m \u001b[0;34m\u001b[0m\u001b[0m\n\u001b[0;32m----> 2\u001b[0;31m \u001b[0mOUT\u001b[0m\u001b[0;34m.\u001b[0m\u001b[0mhead\u001b[0m\u001b[0;34m(\u001b[0m\u001b[0;34m)\u001b[0m\u001b[0;34m\u001b[0m\u001b[0m\n\u001b[0m",
      "\u001b[0;31mNameError\u001b[0m: name 'OUT' is not defined"
     ]
    }
   ],
   "source": [
    "\n",
    "OUT.head()\n"
   ]
  },
  {
   "cell_type": "code",
   "execution_count": null,
   "metadata": {},
   "outputs": [],
   "source": []
  },
  {
   "cell_type": "code",
   "execution_count": null,
   "metadata": {},
   "outputs": [],
   "source": []
  },
  {
   "cell_type": "code",
   "execution_count": null,
   "metadata": {},
   "outputs": [],
   "source": []
  },
  {
   "cell_type": "code",
   "execution_count": 5,
   "metadata": {},
   "outputs": [],
   "source": [
    "\n",
    "percent_missing = NFIR.isnull().sum() / len(NFIR) * 100 \n",
    "z =  pd.DataFrame(percent_missing)\n",
    "z = z.reset_index()\n",
    "z = z.rename(columns = {0:'Percent Missing'})"
   ]
  },
  {
   "cell_type": "code",
   "execution_count": null,
   "metadata": {},
   "outputs": [],
   "source": []
  },
  {
   "cell_type": "code",
   "execution_count": 6,
   "metadata": {},
   "outputs": [
    {
     "data": {
      "text/plain": [
       "<matplotlib.axes._subplots.AxesSubplot at 0x1a14a1fcf8>"
      ]
     },
     "execution_count": 6,
     "metadata": {},
     "output_type": "execute_result"
    },
    {
     "data": {
      "image/png": "[encoded data removed]",
      "text/plain": [
       "<Figure size 360x2160 with 1 Axes>"
      ]
     },
     "metadata": {},
     "output_type": "display_data"
    }
   ],
   "source": [
    "fig, ax =  plt.subplots(figsize= (5,30))\n",
    "sns.barplot(data = z, y = 'index',x = 'Percent Missing', ax = ax )"
   ]
  },
  {
   "cell_type": "code",
   "execution_count": null,
   "metadata": {},
   "outputs": [],
   "source": []
  }
 ],
 "metadata": {
  "kernelspec": {
   "display_name": "Python 3",
   "language": "python",
   "name": "python3"
  },
  "language_info": {
   "codemirror_mode": {
    "name": "ipython",
    "version": 3
   },
   "file_extension": ".py",
   "mimetype": "text/x-python",
   "name": "python",
   "nbconvert_exporter": "python",
   "pygments_lexer": "ipython3",
   "version": "3.6.4"
  }
 },
 "nbformat": 4,
 "nbformat_minor": 2
}
