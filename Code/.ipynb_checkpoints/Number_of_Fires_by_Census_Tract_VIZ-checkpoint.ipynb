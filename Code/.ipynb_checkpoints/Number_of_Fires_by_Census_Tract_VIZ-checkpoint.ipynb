{
 "cells": [
  {
   "cell_type": "code",
   "execution_count": 1,
   "metadata": {},
   "outputs": [],
   "source": [
    "# this code takes the NFIRS Dataset and outputs a count of fires by zipcode\n",
    "# requires NFIRS_2009_2016_geocoded_with_tract.csv to be in the main path "
   ]
  },
  {
   "cell_type": "code",
   "execution_count": 3,
   "metadata": {},
   "outputs": [],
   "source": [
    "import os\n",
    "import pandas as pd\n",
    "import matplotlib.pyplot as plt\n",
    "import conda\n",
    "\n",
    "\n"
   ]
  },
  {
   "cell_type": "code",
   "execution_count": 2,
   "metadata": {},
   "outputs": [],
   "source": [
    "# Change to your filepath to data and uncomment if NFIRS_2009_2016_geocoded_with_tract.csv not in the main path \n",
    "#os.chdir('../Data/Raw')"
   ]
  },
  {
   "cell_type": "code",
   "execution_count": 4,
   "metadata": {},
   "outputs": [
    {
     "ename": "SyntaxError",
     "evalue": "invalid syntax (<ipython-input-4-327404cb88b4>, line 1)",
     "output_type": "error",
     "traceback": [
      "\u001b[0;36m  File \u001b[0;32m\"<ipython-input-4-327404cb88b4>\"\u001b[0;36m, line \u001b[0;32m1\u001b[0m\n\u001b[0;31m    conda install -c conda-forge geopandas\u001b[0m\n\u001b[0m                ^\u001b[0m\n\u001b[0;31mSyntaxError\u001b[0m\u001b[0;31m:\u001b[0m invalid syntax\n"
     ]
    }
   ],
   "source": [
    "conda install -c conda-forge geopandas "
   ]
  },
  {
   "cell_type": "code",
   "execution_count": 3,
   "metadata": {},
   "outputs": [],
   "source": [
    "NFIR = pd.read_csv('NFIRS_2009_2016_geocoded_with_tract.csv',\n",
    "                   encoding='latin_1',\n",
    "                   index_col=0,\n",
    "                   low_memory=False)\n"
   ]
  },
  {
   "cell_type": "code",
   "execution_count": 4,
   "metadata": {},
   "outputs": [
    {
     "data": {
      "text/html": [
       "<div>\n",
       "<style scoped>\n",
       "    .dataframe tbody tr th:only-of-type {\n",
       "        vertical-align: middle;\n",
       "    }\n",
       "\n",
       "    .dataframe tbody tr th {\n",
       "        vertical-align: top;\n",
       "    }\n",
       "\n",
       "    .dataframe thead th {\n",
       "        text-align: right;\n",
       "    }\n",
       "</style>\n",
       "<table border=\"1\" class=\"dataframe\">\n",
       "  <thead>\n",
       "    <tr style=\"text-align: right;\">\n",
       "      <th></th>\n",
       "      <th>ORIGINAL_ADDRESS</th>\n",
       "      <th>MATCH</th>\n",
       "      <th>MATCH_TYPE</th>\n",
       "      <th>MATCHED_ADDRESS</th>\n",
       "      <th>X</th>\n",
       "      <th>Y</th>\n",
       "      <th>TIGER_LINE_ID</th>\n",
       "      <th>TIGER_LINE_SIDE</th>\n",
       "      <th>STATE</th>\n",
       "      <th>state_fips</th>\n",
       "      <th>COUNTYFP</th>\n",
       "      <th>TRACTCE</th>\n",
       "      <th>GEOID</th>\n",
       "      <th>NAME</th>\n",
       "      <th>NAMELSAD</th>\n",
       "      <th>MTFCC</th>\n",
       "      <th>FUNCSTAT</th>\n",
       "    </tr>\n",
       "    <tr>\n",
       "      <th>ID</th>\n",
       "      <th></th>\n",
       "      <th></th>\n",
       "      <th></th>\n",
       "      <th></th>\n",
       "      <th></th>\n",
       "      <th></th>\n",
       "      <th></th>\n",
       "      <th></th>\n",
       "      <th></th>\n",
       "      <th></th>\n",
       "      <th></th>\n",
       "      <th></th>\n",
       "      <th></th>\n",
       "      <th></th>\n",
       "      <th></th>\n",
       "      <th></th>\n",
       "      <th></th>\n",
       "    </tr>\n",
       "  </thead>\n",
       "  <tbody>\n",
       "    <tr>\n",
       "      <th>rcp2_id1868</th>\n",
       "      <td>300 Navaho ST, Enterprise, AL, 36331</td>\n",
       "      <td>No_Match</td>\n",
       "      <td>NaN</td>\n",
       "      <td>NaN</td>\n",
       "      <td>NaN</td>\n",
       "      <td>NaN</td>\n",
       "      <td>NaN</td>\n",
       "      <td>NaN</td>\n",
       "      <td>AL</td>\n",
       "      <td>1.0</td>\n",
       "      <td>NaN</td>\n",
       "      <td>NaN</td>\n",
       "      <td>NaN</td>\n",
       "      <td>NaN</td>\n",
       "      <td>NaN</td>\n",
       "      <td>NaN</td>\n",
       "      <td>NaN</td>\n",
       "    </tr>\n",
       "    <tr>\n",
       "      <th>rcp2_id9390</th>\n",
       "      <td>253 BALD ROCK RD, BERRY_CRK, CA, 95934</td>\n",
       "      <td>No_Match</td>\n",
       "      <td>NaN</td>\n",
       "      <td>NaN</td>\n",
       "      <td>NaN</td>\n",
       "      <td>NaN</td>\n",
       "      <td>NaN</td>\n",
       "      <td>NaN</td>\n",
       "      <td>CA</td>\n",
       "      <td>6.0</td>\n",
       "      <td>NaN</td>\n",
       "      <td>NaN</td>\n",
       "      <td>NaN</td>\n",
       "      <td>NaN</td>\n",
       "      <td>NaN</td>\n",
       "      <td>NaN</td>\n",
       "      <td>NaN</td>\n",
       "    </tr>\n",
       "    <tr>\n",
       "      <th>rcp2_id1869</th>\n",
       "      <td>105 Yellowleaf DR, Enterprise, AL, 36331</td>\n",
       "      <td>Match</td>\n",
       "      <td>Non_Exact</td>\n",
       "      <td>105 YELLOWLEAF DR, ENTERPRISE, AL, 36330</td>\n",
       "      <td>-85.807050</td>\n",
       "      <td>31.328058</td>\n",
       "      <td>99550660.0</td>\n",
       "      <td>L</td>\n",
       "      <td>AL</td>\n",
       "      <td>1.0</td>\n",
       "      <td>31.0</td>\n",
       "      <td>11202.0</td>\n",
       "      <td>1.031011e+09</td>\n",
       "      <td>112.02</td>\n",
       "      <td>Census Tract 112.02</td>\n",
       "      <td>G5020</td>\n",
       "      <td>S</td>\n",
       "    </tr>\n",
       "    <tr>\n",
       "      <th>rcp2_id9391</th>\n",
       "      <td>464 SHELDON AVE, GRDLY, CA, 95956</td>\n",
       "      <td>Match</td>\n",
       "      <td>Non_Exact</td>\n",
       "      <td>464 SHELDON AVE, GRIDLEY, CA, 95948</td>\n",
       "      <td>-121.666460</td>\n",
       "      <td>39.350815</td>\n",
       "      <td>636052867.0</td>\n",
       "      <td>R</td>\n",
       "      <td>CA</td>\n",
       "      <td>6.0</td>\n",
       "      <td>7.0</td>\n",
       "      <td>3400.0</td>\n",
       "      <td>6.007003e+09</td>\n",
       "      <td>34.00</td>\n",
       "      <td>Census Tract 34</td>\n",
       "      <td>G5020</td>\n",
       "      <td>S</td>\n",
       "    </tr>\n",
       "    <tr>\n",
       "      <th>rcp2_id9392</th>\n",
       "      <td>11336 YANKEE HILL RD, CONCOW, CA, 95965</td>\n",
       "      <td>Match</td>\n",
       "      <td>Non_Exact</td>\n",
       "      <td>11336 YANKEE HILL RD, YANKEE HILL, CA, 95965</td>\n",
       "      <td>-121.520836</td>\n",
       "      <td>39.712353</td>\n",
       "      <td>68417518.0</td>\n",
       "      <td>R</td>\n",
       "      <td>CA</td>\n",
       "      <td>6.0</td>\n",
       "      <td>7.0</td>\n",
       "      <td>2400.0</td>\n",
       "      <td>6.007002e+09</td>\n",
       "      <td>24.00</td>\n",
       "      <td>Census Tract 24</td>\n",
       "      <td>G5020</td>\n",
       "      <td>S</td>\n",
       "    </tr>\n",
       "  </tbody>\n",
       "</table>\n",
       "</div>"
      ],
      "text/plain": [
       "                                     ORIGINAL_ADDRESS     MATCH MATCH_TYPE  \\\n",
       "ID                                                                           \n",
       "rcp2_id1868      300 Navaho ST, Enterprise, AL, 36331  No_Match        NaN   \n",
       "rcp2_id9390    253 BALD ROCK RD, BERRY_CRK, CA, 95934  No_Match        NaN   \n",
       "rcp2_id1869  105 Yellowleaf DR, Enterprise, AL, 36331     Match  Non_Exact   \n",
       "rcp2_id9391         464 SHELDON AVE, GRDLY, CA, 95956     Match  Non_Exact   \n",
       "rcp2_id9392   11336 YANKEE HILL RD, CONCOW, CA, 95965     Match  Non_Exact   \n",
       "\n",
       "                                          MATCHED_ADDRESS           X  \\\n",
       "ID                                                                      \n",
       "rcp2_id1868                                           NaN         NaN   \n",
       "rcp2_id9390                                           NaN         NaN   \n",
       "rcp2_id1869      105 YELLOWLEAF DR, ENTERPRISE, AL, 36330  -85.807050   \n",
       "rcp2_id9391           464 SHELDON AVE, GRIDLEY, CA, 95948 -121.666460   \n",
       "rcp2_id9392  11336 YANKEE HILL RD, YANKEE HILL, CA, 95965 -121.520836   \n",
       "\n",
       "                     Y  TIGER_LINE_ID TIGER_LINE_SIDE STATE  state_fips  \\\n",
       "ID                                                                        \n",
       "rcp2_id1868        NaN            NaN             NaN    AL         1.0   \n",
       "rcp2_id9390        NaN            NaN             NaN    CA         6.0   \n",
       "rcp2_id1869  31.328058     99550660.0               L    AL         1.0   \n",
       "rcp2_id9391  39.350815    636052867.0               R    CA         6.0   \n",
       "rcp2_id9392  39.712353     68417518.0               R    CA         6.0   \n",
       "\n",
       "             COUNTYFP  TRACTCE         GEOID    NAME             NAMELSAD  \\\n",
       "ID                                                                          \n",
       "rcp2_id1868       NaN      NaN           NaN     NaN                  NaN   \n",
       "rcp2_id9390       NaN      NaN           NaN     NaN                  NaN   \n",
       "rcp2_id1869      31.0  11202.0  1.031011e+09  112.02  Census Tract 112.02   \n",
       "rcp2_id9391       7.0   3400.0  6.007003e+09   34.00      Census Tract 34   \n",
       "rcp2_id9392       7.0   2400.0  6.007002e+09   24.00      Census Tract 24   \n",
       "\n",
       "             MTFCC FUNCSTAT  \n",
       "ID                           \n",
       "rcp2_id1868    NaN      NaN  \n",
       "rcp2_id9390    NaN      NaN  \n",
       "rcp2_id1869  G5020        S  \n",
       "rcp2_id9391  G5020        S  \n",
       "rcp2_id9392  G5020        S  "
      ]
     },
     "execution_count": 4,
     "metadata": {},
     "output_type": "execute_result"
    }
   ],
   "source": [
    "NFIR.head()"
   ]
  },
  {
   "cell_type": "code",
   "execution_count": 7,
   "metadata": {},
   "outputs": [
    {
     "data": {
      "text/plain": [
       "Index(['ORIGINAL_ADDRESS', 'MATCH', 'MATCH_TYPE', 'MATCHED_ADDRESS', 'X', 'Y',\n",
       "       'TIGER_LINE_ID', 'TIGER_LINE_SIDE', 'STATE', 'state_fips', 'COUNTYFP',\n",
       "       'TRACTCE', 'GEOID', 'NAME', 'NAMELSAD', 'MTFCC', 'FUNCSTAT'],\n",
       "      dtype='object')"
      ]
     },
     "execution_count": 7,
     "metadata": {},
     "output_type": "execute_result"
    }
   ],
   "source": [
    "NFIR.columns"
   ]
  },
  {
   "cell_type": "code",
   "execution_count": 8,
   "metadata": {},
   "outputs": [],
   "source": [
    "OUT =  NFIR.groupby(['STATE','COUNTYFP'] )['TRACTCE'].value_counts()"
   ]
  },
  {
   "cell_type": "code",
   "execution_count": 9,
   "metadata": {},
   "outputs": [],
   "source": [
    "OUT.name = 'COUNT'"
   ]
  },
  {
   "cell_type": "markdown",
   "metadata": {},
   "source": [
    "Output"
   ]
  },
  {
   "cell_type": "code",
   "execution_count": 10,
   "metadata": {},
   "outputs": [],
   "source": [
    "OUT.to_csv('Fires_by_Census_Tract.csv',header= True)"
   ]
  },
  {
   "cell_type": "code",
   "execution_count": 19,
   "metadata": {},
   "outputs": [
    {
     "data": {
      "text/plain": [
       "STATE  COUNTYFP  TRACTCE \n",
       "AK     13.0      100.0        3\n",
       "       16.0      200.0        9\n",
       "                 100.0        1\n",
       "       20.0      1731.0      73\n",
       "                 802.0       72\n",
       "                 901.0       72\n",
       "                 701.0       70\n",
       "                 801.0       70\n",
       "                 1400.0      70\n",
       "                 600.0       67\n",
       "                 703.0       67\n",
       "                 2712.0      64\n",
       "                 1701.0      58\n",
       "                 102.0       57\n",
       "                 2303.0      56\n",
       "                 2702.0      55\n",
       "                 902.0       44\n",
       "                 2811.0      44\n",
       "                 1000.0      43\n",
       "                 2301.0      43\n",
       "                 1702.0      41\n",
       "                 2502.0      41\n",
       "                 203.0       40\n",
       "                 1802.0      40\n",
       "                 2000.0      39\n",
       "                 2812.0      39\n",
       "                 101.0       38\n",
       "                 702.0       38\n",
       "                 1900.0      38\n",
       "                 2900.0      37\n",
       "                             ..\n",
       "WY     33.0      200.0        5\n",
       "                 400.0        5\n",
       "                 600.0        3\n",
       "                 500.0        1\n",
       "       35.0      102.0        3\n",
       "                 101.0        2\n",
       "       37.0      970800.0    38\n",
       "                 971100.0    25\n",
       "                 970602.0    13\n",
       "                 970601.0    10\n",
       "                 970901.0    10\n",
       "                 971200.0    10\n",
       "                 970500.0     9\n",
       "                 970700.0     7\n",
       "                 971000.0     6\n",
       "                 970902.0     5\n",
       "                 970903.0     5\n",
       "                 971600.0     4\n",
       "       39.0      967702.0    13\n",
       "                 967800.0     9\n",
       "                 967701.0     8\n",
       "                 967600.0     7\n",
       "       41.0      975400.0    21\n",
       "                 975200.0    16\n",
       "                 975300.0    16\n",
       "       43.0      301.0       13\n",
       "                 200.0        4\n",
       "                 302.0        3\n",
       "       45.0      951300.0     8\n",
       "                 951100.0     3\n",
       "Name: COUNT, Length: 66157, dtype: int64"
      ]
     },
     "execution_count": 19,
     "metadata": {},
     "output_type": "execute_result"
    }
   ],
   "source": [
    "OUT"
   ]
  },
  {
   "cell_type": "code",
   "execution_count": null,
   "metadata": {},
   "outputs": [],
   "source": []
  }
 ],
 "metadata": {
  "kernelspec": {
   "display_name": "Python 3",
   "language": "python",
   "name": "python3"
  },
  "language_info": {
   "codemirror_mode": {
    "name": "ipython",
    "version": 3
   },
   "file_extension": ".py",
   "mimetype": "text/x-python",
   "name": "python",
   "nbconvert_exporter": "python",
   "pygments_lexer": "ipython3",
   "version": "3.6.4"
  }
 },
 "nbformat": 4,
 "nbformat_minor": 2
}
