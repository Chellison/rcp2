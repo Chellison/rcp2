{
 "cells": [
  {
   "cell_type": "code",
   "execution_count": 1,
   "metadata": {},
   "outputs": [],
   "source": [
    "from pathlib import Path\n",
    "import pandas as pd\n",
    "import numpy as np\n",
    "import matplotlib.pyplot as plt\n",
    "import seaborn as sns\n",
    "from imblearn import under_sampling, over_sampling \n",
    "from sklearn.model_selection import train_test_split\n",
    "from sklearn.neural_network import MLPClassifier\n",
    "from sklearn.metrics import classification_report\n",
    "from sklearn.metrics import log_loss\n",
    "\n",
    "\n",
    "%matplotlib inline\n",
    "plt.style.use('dark_background')\n",
    "pd.set_option('display.max_columns',500)\n",
    "sns.set()\n",
    "\n",
    "import random\n",
    "\n",
    "SEED = 27\n",
    "random.seed(SEED)\n",
    "np.random.seed(SEED)\n"
   ]
  },
  {
   "cell_type": "code",
   "execution_count": 2,
   "metadata": {},
   "outputs": [],
   "source": [
    "p = Path.cwd()\n",
    "data_path = p.parent.parent / 'data' / 'Master Project Data' \n",
    "nfirs_path =  data_path / 'NFIRS Fire Incident Data.csv'\n",
    "\n",
    "cols_to_use = ['State','FDID','inc_date','oth_inj','oth_death','prop_loss',\n",
    "               'cont_loss','tot_loss','GEOID']\n",
    "col_dtypes = {'GEOID':str}\n",
    "\n",
    "nfirs = pd.read_csv(nfirs_path,\n",
    "                    dtype = col_dtypes,\n",
    "                    usecols = cols_to_use,\n",
    "                    encoding='latin-1')\n",
    "\n",
    "nfirs['inc_date'] = pd.to_datetime(nfirs['inc_date'], infer_datetime_format=True)\n",
    "\n",
    "\n",
    "## Currently only using ACS and NFIRS but Here's how  to load SVI data \n",
    "\n",
    "#svi2016_path = data_path.parent/ 'Master Project Data'  / 'SVI Tract Data.csv'\n",
    "#svi2016_top = pd.read_csv(svi2016_path,nrows=1000)\n",
    "\n",
    "#svi_col_dtypes = {'ST':str,'STCNTY':str,'FIPS':str}\n",
    "\n",
    "#svi2016 = pd.read_csv(svi2016_path,\n",
    "                     index_col=0,\n",
    "                     dtype = svi_col_dtypes)\n",
    "\n",
    "\n",
    "\n",
    "ACS_path = data_path  / 'ACS 5YR Block Group Data.csv'\n",
    "ACS = pd.read_csv(ACS_path,\n",
    "                  dtype = {'GEOID':'object'},\n",
    "                index_col = 1)\n",
    "            "
   ]
  },
  {
   "cell_type": "code",
   "execution_count": null,
   "metadata": {},
   "outputs": [],
   "source": []
  },
  {
   "cell_type": "code",
   "execution_count": 3,
   "metadata": {},
   "outputs": [],
   "source": [
    "nfirs['tot_loss'] = nfirs['prop_loss'] + nfirs['cont_loss']\n",
    "# Add the severe fire column to the dataset\n",
    "sev_fire_mask = (nfirs['oth_death'] > 0) | (nfirs['oth_inj'] > 0) | (nfirs['tot_loss'] >= 10000)\n",
    "nfirs['severe_fire'] = 'not_sev_fire'\n",
    "nfirs.loc[sev_fire_mask,'severe_fire'] = 'sev_fire'\n",
    "nfirs['had_inj'] = np.where(nfirs['oth_inj']>0,'had_inj','no_inj')\n",
    "nfirs['had_death'] = np.where(nfirs['oth_death']>0,'had_death','no_death')\n",
    "nfirs['10k_loss'] = np.where(nfirs['tot_loss']>=10000,'had_10k_loss','no_10k_loss')\n"
   ]
  },
  {
   "cell_type": "code",
   "execution_count": 4,
   "metadata": {},
   "outputs": [
    {
     "data": {
      "text/plain": [
       "11.0    1699998\n",
       "Name: GEOID, dtype: int64"
      ]
     },
     "execution_count": 4,
     "metadata": {},
     "output_type": "execute_result"
    }
   ],
   "source": [
    "nfirs['GEOID'] = (nfirs['GEOID'].str[:-3].str.zfill(1)\n",
    "nfirs['year'] = nfirs['inc_date'].dt.year.astype('str')\n",
    "nfirs['GEOID'].str.len().value_counts()\n",
    "# Add a year column to be used to groupby in addition to GEOID\n"
   ]
  },
  {
   "cell_type": "code",
   "execution_count": 5,
   "metadata": {},
   "outputs": [
    {
     "data": {
      "text/plain": [
       "0    02110000500\n",
       "1    02110000600\n",
       "2    02110000100\n",
       "3    02110000400\n",
       "4    02110000400\n",
       "Name: GEOID, dtype: object"
      ]
     },
     "execution_count": 5,
     "metadata": {},
     "output_type": "execute_result"
    }
   ],
   "source": [
    "nfirs['GEOID'].head()"
   ]
  },
  {
   "cell_type": "code",
   "execution_count": 6,
   "metadata": {},
   "outputs": [
    {
     "data": {
      "text/plain": [
       "array(['02', nan, '01', '05', '04', '06', '08', '09', '11', '10', '12',\n",
       "       '13', '15', '19', '16', '17', '18', '20', '21', '22', '25', '24',\n",
       "       '23', '26', '27', '29', '28', '30', '37', '38', '31', '33', '34',\n",
       "       '35', '32', '36', '39', '40', '41', '42', '44', '45', '46', '47',\n",
       "       '48', '49', '51', '50', '53', '55', '54', '56'], dtype=object)"
      ]
     },
     "execution_count": 6,
     "metadata": {},
     "output_type": "execute_result"
    }
   ],
   "source": [
    "#nfirs =  nfirs[~ nfirs['GEOID'].isna()]\n",
    "nfirs['GEOID'].str[:2].unique()"
   ]
  },
  {
   "cell_type": "code",
   "execution_count": 7,
   "metadata": {},
   "outputs": [
    {
     "data": {
      "text/html": [
       "<div>\n",
       "<style scoped>\n",
       "    .dataframe tbody tr th:only-of-type {\n",
       "        vertical-align: middle;\n",
       "    }\n",
       "\n",
       "    .dataframe tbody tr th {\n",
       "        vertical-align: top;\n",
       "    }\n",
       "\n",
       "    .dataframe thead th {\n",
       "        text-align: right;\n",
       "    }\n",
       "</style>\n",
       "<table border=\"1\" class=\"dataframe\">\n",
       "  <thead>\n",
       "    <tr style=\"text-align: right;\">\n",
       "      <th>year</th>\n",
       "      <th>2009</th>\n",
       "      <th>2010</th>\n",
       "      <th>2011</th>\n",
       "      <th>2012</th>\n",
       "      <th>2013</th>\n",
       "      <th>2014</th>\n",
       "      <th>2015</th>\n",
       "      <th>2016</th>\n",
       "    </tr>\n",
       "    <tr>\n",
       "      <th>GEOID</th>\n",
       "      <th></th>\n",
       "      <th></th>\n",
       "      <th></th>\n",
       "      <th></th>\n",
       "      <th></th>\n",
       "      <th></th>\n",
       "      <th></th>\n",
       "      <th></th>\n",
       "    </tr>\n",
       "  </thead>\n",
       "  <tbody>\n",
       "    <tr>\n",
       "      <td>01001020100</td>\n",
       "      <td>3</td>\n",
       "      <td>3</td>\n",
       "      <td>0</td>\n",
       "      <td>2</td>\n",
       "      <td>1</td>\n",
       "      <td>0</td>\n",
       "      <td>2</td>\n",
       "      <td>2</td>\n",
       "    </tr>\n",
       "    <tr>\n",
       "      <td>01001020200</td>\n",
       "      <td>4</td>\n",
       "      <td>1</td>\n",
       "      <td>5</td>\n",
       "      <td>1</td>\n",
       "      <td>2</td>\n",
       "      <td>1</td>\n",
       "      <td>2</td>\n",
       "      <td>1</td>\n",
       "    </tr>\n",
       "    <tr>\n",
       "      <td>01001020300</td>\n",
       "      <td>4</td>\n",
       "      <td>3</td>\n",
       "      <td>3</td>\n",
       "      <td>2</td>\n",
       "      <td>4</td>\n",
       "      <td>1</td>\n",
       "      <td>4</td>\n",
       "      <td>4</td>\n",
       "    </tr>\n",
       "    <tr>\n",
       "      <td>01001020400</td>\n",
       "      <td>8</td>\n",
       "      <td>1</td>\n",
       "      <td>4</td>\n",
       "      <td>0</td>\n",
       "      <td>3</td>\n",
       "      <td>1</td>\n",
       "      <td>4</td>\n",
       "      <td>1</td>\n",
       "    </tr>\n",
       "    <tr>\n",
       "      <td>01001020500</td>\n",
       "      <td>6</td>\n",
       "      <td>8</td>\n",
       "      <td>7</td>\n",
       "      <td>4</td>\n",
       "      <td>8</td>\n",
       "      <td>4</td>\n",
       "      <td>13</td>\n",
       "      <td>11</td>\n",
       "    </tr>\n",
       "  </tbody>\n",
       "</table>\n",
       "</div>"
      ],
      "text/plain": [
       "year         2009  2010  2011  2012  2013  2014  2015  2016\n",
       "GEOID                                                      \n",
       "01001020100     3     3     0     2     1     0     2     2\n",
       "01001020200     4     1     5     1     2     1     2     1\n",
       "01001020300     4     3     3     2     4     1     4     4\n",
       "01001020400     8     1     4     0     3     1     4     1\n",
       "01001020500     6     8     7     4     8     4    13    11"
      ]
     },
     "execution_count": 7,
     "metadata": {},
     "output_type": "execute_result"
    }
   ],
   "source": [
    "fires =  pd.crosstab(nfirs['GEOID'],nfirs['year'])\n",
    "fires.head()"
   ]
  },
  {
   "cell_type": "code",
   "execution_count": 8,
   "metadata": {},
   "outputs": [
    {
     "data": {
      "text/html": [
       "<div>\n",
       "<style scoped>\n",
       "    .dataframe tbody tr th:only-of-type {\n",
       "        vertical-align: middle;\n",
       "    }\n",
       "\n",
       "    .dataframe tbody tr th {\n",
       "        vertical-align: top;\n",
       "    }\n",
       "\n",
       "    .dataframe thead th {\n",
       "        text-align: right;\n",
       "    }\n",
       "</style>\n",
       "<table border=\"1\" class=\"dataframe\">\n",
       "  <thead>\n",
       "    <tr style=\"text-align: right;\">\n",
       "      <th>year</th>\n",
       "      <th>2009</th>\n",
       "      <th>2010</th>\n",
       "      <th>2011</th>\n",
       "      <th>2012</th>\n",
       "      <th>2013</th>\n",
       "      <th>2014</th>\n",
       "      <th>2015</th>\n",
       "      <th>2016</th>\n",
       "    </tr>\n",
       "  </thead>\n",
       "  <tbody>\n",
       "    <tr>\n",
       "      <td>count</td>\n",
       "      <td>69672.000000</td>\n",
       "      <td>69672.000000</td>\n",
       "      <td>69672.000000</td>\n",
       "      <td>69672.000000</td>\n",
       "      <td>69672.000000</td>\n",
       "      <td>69672.000000</td>\n",
       "      <td>69672.000000</td>\n",
       "      <td>69672.000000</td>\n",
       "    </tr>\n",
       "    <tr>\n",
       "      <td>mean</td>\n",
       "      <td>2.851174</td>\n",
       "      <td>3.038480</td>\n",
       "      <td>2.779065</td>\n",
       "      <td>2.796891</td>\n",
       "      <td>2.946693</td>\n",
       "      <td>3.342232</td>\n",
       "      <td>3.289499</td>\n",
       "      <td>3.355982</td>\n",
       "    </tr>\n",
       "    <tr>\n",
       "      <td>std</td>\n",
       "      <td>4.113418</td>\n",
       "      <td>4.358031</td>\n",
       "      <td>3.977128</td>\n",
       "      <td>3.947763</td>\n",
       "      <td>4.026929</td>\n",
       "      <td>4.437296</td>\n",
       "      <td>4.309103</td>\n",
       "      <td>4.657149</td>\n",
       "    </tr>\n",
       "    <tr>\n",
       "      <td>min</td>\n",
       "      <td>0.000000</td>\n",
       "      <td>0.000000</td>\n",
       "      <td>0.000000</td>\n",
       "      <td>0.000000</td>\n",
       "      <td>0.000000</td>\n",
       "      <td>0.000000</td>\n",
       "      <td>0.000000</td>\n",
       "      <td>0.000000</td>\n",
       "    </tr>\n",
       "    <tr>\n",
       "      <td>50%</td>\n",
       "      <td>2.000000</td>\n",
       "      <td>2.000000</td>\n",
       "      <td>2.000000</td>\n",
       "      <td>2.000000</td>\n",
       "      <td>2.000000</td>\n",
       "      <td>2.000000</td>\n",
       "      <td>2.000000</td>\n",
       "      <td>2.000000</td>\n",
       "    </tr>\n",
       "    <tr>\n",
       "      <td>75%</td>\n",
       "      <td>4.000000</td>\n",
       "      <td>4.000000</td>\n",
       "      <td>4.000000</td>\n",
       "      <td>4.000000</td>\n",
       "      <td>4.000000</td>\n",
       "      <td>5.000000</td>\n",
       "      <td>4.000000</td>\n",
       "      <td>4.000000</td>\n",
       "    </tr>\n",
       "    <tr>\n",
       "      <td>85%</td>\n",
       "      <td>6.000000</td>\n",
       "      <td>6.000000</td>\n",
       "      <td>5.000000</td>\n",
       "      <td>5.000000</td>\n",
       "      <td>6.000000</td>\n",
       "      <td>6.000000</td>\n",
       "      <td>6.000000</td>\n",
       "      <td>6.000000</td>\n",
       "    </tr>\n",
       "    <tr>\n",
       "      <td>90%</td>\n",
       "      <td>7.000000</td>\n",
       "      <td>7.000000</td>\n",
       "      <td>7.000000</td>\n",
       "      <td>7.000000</td>\n",
       "      <td>7.000000</td>\n",
       "      <td>8.000000</td>\n",
       "      <td>8.000000</td>\n",
       "      <td>8.000000</td>\n",
       "    </tr>\n",
       "    <tr>\n",
       "      <td>95%</td>\n",
       "      <td>10.000000</td>\n",
       "      <td>10.000000</td>\n",
       "      <td>9.000000</td>\n",
       "      <td>9.000000</td>\n",
       "      <td>10.000000</td>\n",
       "      <td>11.000000</td>\n",
       "      <td>10.000000</td>\n",
       "      <td>11.000000</td>\n",
       "    </tr>\n",
       "    <tr>\n",
       "      <td>99%</td>\n",
       "      <td>19.000000</td>\n",
       "      <td>19.000000</td>\n",
       "      <td>17.000000</td>\n",
       "      <td>18.000000</td>\n",
       "      <td>18.000000</td>\n",
       "      <td>20.000000</td>\n",
       "      <td>19.000000</td>\n",
       "      <td>20.000000</td>\n",
       "    </tr>\n",
       "    <tr>\n",
       "      <td>max</td>\n",
       "      <td>90.000000</td>\n",
       "      <td>251.000000</td>\n",
       "      <td>118.000000</td>\n",
       "      <td>170.000000</td>\n",
       "      <td>116.000000</td>\n",
       "      <td>175.000000</td>\n",
       "      <td>156.000000</td>\n",
       "      <td>239.000000</td>\n",
       "    </tr>\n",
       "  </tbody>\n",
       "</table>\n",
       "</div>"
      ],
      "text/plain": [
       "year           2009          2010          2011          2012          2013  \\\n",
       "count  69672.000000  69672.000000  69672.000000  69672.000000  69672.000000   \n",
       "mean       2.851174      3.038480      2.779065      2.796891      2.946693   \n",
       "std        4.113418      4.358031      3.977128      3.947763      4.026929   \n",
       "min        0.000000      0.000000      0.000000      0.000000      0.000000   \n",
       "50%        2.000000      2.000000      2.000000      2.000000      2.000000   \n",
       "75%        4.000000      4.000000      4.000000      4.000000      4.000000   \n",
       "85%        6.000000      6.000000      5.000000      5.000000      6.000000   \n",
       "90%        7.000000      7.000000      7.000000      7.000000      7.000000   \n",
       "95%       10.000000     10.000000      9.000000      9.000000     10.000000   \n",
       "99%       19.000000     19.000000     17.000000     18.000000     18.000000   \n",
       "max       90.000000    251.000000    118.000000    170.000000    116.000000   \n",
       "\n",
       "year           2014          2015          2016  \n",
       "count  69672.000000  69672.000000  69672.000000  \n",
       "mean       3.342232      3.289499      3.355982  \n",
       "std        4.437296      4.309103      4.657149  \n",
       "min        0.000000      0.000000      0.000000  \n",
       "50%        2.000000      2.000000      2.000000  \n",
       "75%        5.000000      4.000000      4.000000  \n",
       "85%        6.000000      6.000000      6.000000  \n",
       "90%        8.000000      8.000000      8.000000  \n",
       "95%       11.000000     10.000000     11.000000  \n",
       "99%       20.000000     19.000000     20.000000  \n",
       "max      175.000000    156.000000    239.000000  "
      ]
     },
     "execution_count": 8,
     "metadata": {},
     "output_type": "execute_result"
    }
   ],
   "source": [
    "fires.describe(percentiles=[.75, .85, .9 ,.95, .99])"
   ]
  },
  {
   "cell_type": "code",
   "execution_count": 9,
   "metadata": {},
   "outputs": [],
   "source": [
    "def plotFires(df):\n",
    "\n",
    "    #g = sns.FacetGrid(nfirs,col = 'year' , row = 'GEOID', aspect=.25)\n",
    "    #g.map(sns.distplot())\n",
    "    figsize = (20, 16)\n",
    "    cols = 4\n",
    "    rows = 2\n",
    "    f, axs = plt.subplots(cols,rows,figsize= figsize)\n",
    "\n",
    "\n",
    "\n",
    "    cases = df.columns.to_list()\n",
    "    for  case in enumerate(cases):\n",
    "        ax = plt.subplot(cols,rows,case[0]+1)\n",
    "        ax.set_title('All Fires {}'.format(str(case[1])) )\n",
    "        plt.hist(df[case[1]],bins=[0,1,2,3,4,5,6,7,8,9,10,11,12,13,15,20,40,80,100])\n",
    "        #plt.hist(df[case[1]])\n",
    "\n",
    "\n",
    "\n"
   ]
  },
  {
   "cell_type": "code",
   "execution_count": 10,
   "metadata": {},
   "outputs": [],
   "source": [
    "top10 = fires > fires.quantile(.9)\n"
   ]
  },
  {
   "cell_type": "code",
   "execution_count": 11,
   "metadata": {},
   "outputs": [
    {
     "data": {
      "text/plain": [
       "year\n",
       "2009    8.639052\n",
       "2010    9.494488\n",
       "2011    8.148180\n",
       "2012    8.270180\n",
       "2013    8.746699\n",
       "2014    8.217074\n",
       "2015    7.928580\n",
       "2016    8.133827\n",
       "dtype: float64"
      ]
     },
     "execution_count": 11,
     "metadata": {},
     "output_type": "execute_result"
    }
   ],
   "source": [
    "top10.sum() / top10.shape[0] * 100"
   ]
  },
  {
   "cell_type": "code",
   "execution_count": 12,
   "metadata": {},
   "outputs": [],
   "source": [
    "high2009 = fires[ fires['2009'] > 7] "
   ]
  },
  {
   "cell_type": "code",
   "execution_count": 13,
   "metadata": {},
   "outputs": [
    {
     "data": {
      "image/png": "[encoded data removed]",
      "text/plain": [
       "<Figure size 1440x1152 with 8 Axes>"
      ]
     },
     "metadata": {
      "needs_background": "light"
     },
     "output_type": "display_data"
    }
   ],
   "source": [
    "plotFires(fires)"
   ]
  },
  {
   "cell_type": "code",
   "execution_count": 14,
   "metadata": {},
   "outputs": [],
   "source": [
    "def resample_df(X,y,upsample=True ,seed = SEED):\n",
    "    from sklearn.utils import resample\n",
    "    # check which of our two classes is overly represented \n",
    "    if np.mean(y) > .5:\n",
    "        major,minor = 1,0\n",
    "    else:\n",
    "        major,minor = 0, 1\n",
    "    \n",
    "    X['Class'] = y\n",
    "    \n",
    "    df_major = X[X.Class == major ]\n",
    "    df_minor = X[X.Class == minor ]\n",
    "    \n",
    "    \n",
    "    if upsample:      \n",
    "\n",
    "        df_minor_resampled = resample(df_minor,\n",
    "                                     replace = True,\n",
    "                                     n_samples = df_major.shape[0],\n",
    "                                     random_state = seed)\n",
    "    \n",
    "    \n",
    "   \n",
    "        combined = pd.concat([df_major,df_minor_resampled])\n",
    "        \n",
    "        # Debug\n",
    "        print('minor class {}, major class {}'.format(df_minor_resampled.shape[0],\n",
    "                                                       df_major.shape[0]))\n",
    "    \n",
    "        \n",
    "    else: # downsample\n",
    "         \n",
    "        df_major_resampled = resample(df_major,\n",
    "                                     replace = False,\n",
    "                                     n_samples = df_minor.shape[0],\n",
    "                                     random_state = seed)\n",
    "        \n",
    "        \n",
    "        combined = pd.concat([df_major_resampled,df_minor])\n",
    "        \n",
    "        print('minor class {}, major class {}'.format(df_minor.shape[0],\n",
    "                                                      df_major_resampled.shape[0]))\n",
    "\n",
    "\n",
    "    \n",
    "    \n",
    "    print(combined.columns)\n",
    "    y_out = combined['Class']\n",
    "    X_out = combined.drop('Class', axis =1 )\n",
    "    return X_out , y_out"
   ]
  },
  {
   "cell_type": "code",
   "execution_count": 56,
   "metadata": {},
   "outputs": [],
   "source": [
    "def train_model(fires,top10,nyears = 4,modeltype='LogisticRegression',resample = False, seed = SEED):\n",
    "    from scipy.stats import zscore\n",
    "    \n",
    "    years = fires.columns\n",
    "        \n",
    "    start_pointer = 0\n",
    "    end_pointer = nyears-1\n",
    "    y_pointer = nyears\n",
    "    \n",
    "    \n",
    "    if modeltype =='LogisticRegression':\n",
    "        from sklearn.linear_model import LogisticRegression\n",
    "        #model = LogisticRegression(warm_start=True,\n",
    "        #                           class_weight = 'balanced')\n",
    "        model = LogisticRegression(penalty='elasticnet', l1_ratio=.1, \n",
    "                                   warm_start=True,\n",
    "                                   class_weight = 'balanced',\n",
    "                                   solver='saga')\n",
    "    elif modeltype =='SVM':\n",
    "        from sklearn.svm import SVC\n",
    "        model = SVC(gamma='auto',\n",
    "            kernel='linear',\n",
    "            class_weight = 'balanced',\n",
    "            random_state=SEED)\n",
    "        \n",
    "    elif modeltype =='SVM2':\n",
    "        from sklearn.svm import LinearSVC\n",
    "        model = LinearSVC(penalty='l1', \n",
    "                          loss='squared_hinge', \n",
    "                          dual=False, \n",
    "                          tol=0.0005, \n",
    "                          C=0.8, \n",
    "                          multi_class='ovr', \n",
    "                          fit_intercept=True, \n",
    "                          intercept_scaling=1, \n",
    "                          class_weight='balanced', \n",
    "                          verbose=0, \n",
    "                          random_state=SEED, \n",
    "                          max_iter=2500)   \n",
    "        \n",
    "    elif modeltype =='Bagged':# WIP\n",
    "        from imblearn.ensemble import BalancedBaggingClassifier\n",
    "        model = BalancedBaggingClassifier(base_estimator=DecisionTreeClassifier(),\n",
    "                                    sampling_strategy='auto',\n",
    "                                    replacement=False,\n",
    "                                    random_state=0)\n",
    "\n",
    "    elif modeltype == 'NN':\n",
    "        model = MLPClassifier(hidden_layer_sizes=(nyears,nyears ),\n",
    "                              activation='relu', \n",
    "                              solver='adam',\n",
    "                              max_iter=500)\n",
    "    \n",
    "\n",
    "        \n",
    "    while y_pointer < len(years):\n",
    "        X_start, X_end = start_pointer, end_pointer\n",
    "       \n",
    "        X = fires.iloc[:,X_start:X_end].copy()\n",
    "        \n",
    "        L = X.shape[1] \n",
    "        X.columns = ['year-{}'.format(L - year) for year in range(L)]\n",
    "        \n",
    "        sm = np.sum(X, axis = 1 )\n",
    "        mu = np.mean(X, axis = 1)\n",
    "        md = np.median(X, axis = 1)\n",
    "        mx = np.max(X, axis =1)\n",
    "        X['Sum']  = sm\n",
    "        X['Mean'] = mu\n",
    "        X['Median'] =md\n",
    "        X['Max']  = mx\n",
    "       # X = X[['Max','Median','Sum']]\n",
    "        y = top10.iloc[:,y_pointer]\n",
    "        \n",
    "    \n",
    "    \n",
    "        \n",
    "        if resample:\n",
    "            X,y = resample_df(X,y)\n",
    "        \n",
    "        #X = zscore(X.astype(float), axis=0)\n",
    "        X_train, X_test, y_train, y_test = train_test_split(X, y,test_size = .2 )\n",
    "        \n",
    "\n",
    "        \n",
    "        print('Predicting {}:'.format(years[y_pointer]) )\n",
    "        model = model.fit(X_train,y_train)\n",
    "        predictions = model.predict(X_test)\n",
    "\n",
    "     \n",
    "        print(classification_report(y_test,predictions))\n",
    "        print(log_loss(y_test,predictions))\n",
    "        \n",
    "        start_pointer += 1\n",
    "        end_pointer += 1\n",
    "        y_pointer += 1\n",
    "        \n",
    "      \n",
    "    feature_importance = {}\n",
    "    for coef, feat in zip(abs(model.coef_[0]),X.columns.tolist()):\n",
    "        feature_importance[feat] = coef\n",
    "        \n",
    "    return model, feature_importance,X_test,y_test\n",
    "        \n",
    "        \n",
    "\n",
    "\n",
    "\n",
    "\n",
    "\n",
    "\n"
   ]
  },
  {
   "cell_type": "code",
   "execution_count": 57,
   "metadata": {
    "scrolled": true
   },
   "outputs": [
    {
     "name": "stdout",
     "output_type": "stream",
     "text": [
      "minor class 63578, major class 63578\n",
      "Index(['year-3', 'year-2', 'year-1', 'Sum', 'Mean', 'Median', 'Max', 'Class'], dtype='object')\n",
      "Predicting 2013:\n",
      "              precision    recall  f1-score   support\n",
      "\n",
      "       False       0.77      0.86      0.81     12669\n",
      "        True       0.84      0.74      0.79     12763\n",
      "\n",
      "    accuracy                           0.80     25432\n",
      "   macro avg       0.80      0.80      0.80     25432\n",
      "weighted avg       0.80      0.80      0.80     25432\n",
      "\n",
      "6.918132205298023\n",
      "minor class 63947, major class 63947\n",
      "Index(['year-3', 'year-2', 'year-1', 'Sum', 'Mean', 'Median', 'Max', 'Class'], dtype='object')\n",
      "Predicting 2014:\n",
      "              precision    recall  f1-score   support\n",
      "\n",
      "       False       0.77      0.86      0.81     12883\n",
      "        True       0.84      0.74      0.79     12696\n",
      "\n",
      "    accuracy                           0.80     25579\n",
      "   macro avg       0.80      0.80      0.80     25579\n",
      "weighted avg       0.80      0.80      0.80     25579\n",
      "\n",
      "6.913483404685895\n",
      "minor class 64148, major class 64148\n",
      "Index(['year-3', 'year-2', 'year-1', 'Sum', 'Mean', 'Median', 'Max', 'Class'], dtype='object')\n",
      "Predicting 2015:\n",
      "              precision    recall  f1-score   support\n",
      "\n",
      "       False       0.78      0.87      0.82     12766\n",
      "        True       0.85      0.75      0.80     12894\n",
      "\n",
      "    accuracy                           0.81     25660\n",
      "   macro avg       0.81      0.81      0.81     25660\n",
      "weighted avg       0.81      0.81      0.81     25660\n",
      "\n",
      "6.591494844749632\n",
      "minor class 64005, major class 64005\n",
      "Index(['year-3', 'year-2', 'year-1', 'Sum', 'Mean', 'Median', 'Max', 'Class'], dtype='object')\n",
      "Predicting 2016:\n",
      "              precision    recall  f1-score   support\n",
      "\n",
      "       False       0.74      0.85      0.79     12797\n",
      "        True       0.83      0.70      0.76     12805\n",
      "\n",
      "    accuracy                           0.78     25602\n",
      "   macro avg       0.78      0.78      0.78     25602\n",
      "weighted avg       0.78      0.78      0.78     25602\n",
      "\n",
      "7.723459842729694\n"
     ]
    }
   ],
   "source": [
    "mdl,features,X_test,y_test =train_model(fires,top10,4,resample = True, modeltype='SVM2')"
   ]
  },
  {
   "cell_type": "code",
   "execution_count": 25,
   "metadata": {
    "scrolled": true
   },
   "outputs": [
    {
     "name": "stdout",
     "output_type": "stream",
     "text": [
      "Predicting 2013:\n",
      "              precision    recall  f1-score   support\n",
      "\n",
      "       False       0.97      0.85      0.91     12721\n",
      "        True       0.32      0.76      0.45      1214\n",
      "\n",
      "    accuracy                           0.84     13935\n",
      "   macro avg       0.65      0.80      0.68     13935\n",
      "weighted avg       0.92      0.84      0.87     13935\n",
      "\n",
      "5.534742770580912\n"
     ]
    },
    {
     "name": "stderr",
     "output_type": "stream",
     "text": [
      "/Users/felixbartsch/opt/anaconda3/lib/python3.7/site-packages/sklearn/linear_model/logistic.py:432: FutureWarning: Default solver will be changed to 'lbfgs' in 0.22. Specify a solver to silence this warning.\n",
      "  FutureWarning)\n"
     ]
    },
    {
     "name": "stdout",
     "output_type": "stream",
     "text": [
      "Predicting 2014:\n"
     ]
    },
    {
     "name": "stderr",
     "output_type": "stream",
     "text": [
      "/Users/felixbartsch/opt/anaconda3/lib/python3.7/site-packages/sklearn/linear_model/logistic.py:432: FutureWarning: Default solver will be changed to 'lbfgs' in 0.22. Specify a solver to silence this warning.\n",
      "  FutureWarning)\n"
     ]
    },
    {
     "name": "stdout",
     "output_type": "stream",
     "text": [
      "              precision    recall  f1-score   support\n",
      "\n",
      "       False       0.98      0.85      0.91     12797\n",
      "        True       0.32      0.77      0.45      1138\n",
      "\n",
      "    accuracy                           0.85     13935\n",
      "   macro avg       0.65      0.81      0.68     13935\n",
      "weighted avg       0.92      0.85      0.87     13935\n",
      "\n",
      "5.274489516725111\n",
      "Predicting 2015:\n"
     ]
    },
    {
     "name": "stderr",
     "output_type": "stream",
     "text": [
      "/Users/felixbartsch/opt/anaconda3/lib/python3.7/site-packages/sklearn/linear_model/logistic.py:432: FutureWarning: Default solver will be changed to 'lbfgs' in 0.22. Specify a solver to silence this warning.\n",
      "  FutureWarning)\n"
     ]
    },
    {
     "name": "stdout",
     "output_type": "stream",
     "text": [
      "              precision    recall  f1-score   support\n",
      "\n",
      "       False       0.98      0.86      0.92     12898\n",
      "        True       0.30      0.76      0.43      1037\n",
      "\n",
      "    accuracy                           0.85     13935\n",
      "   macro avg       0.64      0.81      0.67     13935\n",
      "weighted avg       0.93      0.85      0.88     13935\n",
      "\n",
      "5.100986429399723\n",
      "Predicting 2016:\n",
      "              precision    recall  f1-score   support\n",
      "\n",
      "       False       0.97      0.84      0.90     12772\n",
      "        True       0.29      0.72      0.41      1163\n",
      "\n",
      "    accuracy                           0.83     13935\n",
      "   macro avg       0.63      0.78      0.65     13935\n",
      "weighted avg       0.91      0.83      0.86     13935\n",
      "\n",
      "5.958584572575392\n"
     ]
    },
    {
     "name": "stderr",
     "output_type": "stream",
     "text": [
      "/Users/felixbartsch/opt/anaconda3/lib/python3.7/site-packages/sklearn/linear_model/logistic.py:432: FutureWarning: Default solver will be changed to 'lbfgs' in 0.22. Specify a solver to silence this warning.\n",
      "  FutureWarning)\n"
     ]
    }
   ],
   "source": [
    "#Previous\n",
    "mdl,features,X_test,y_test =train_model(fires,top10,4,resample = False)"
   ]
  },
  {
   "cell_type": "code",
   "execution_count": 17,
   "metadata": {},
   "outputs": [
    {
     "data": {
      "image/png": "[encoded data removed]",
      "text/plain": [
       "<Figure size 1152x576 with 1 Axes>"
      ]
     },
     "metadata": {
      "needs_background": "light"
     },
     "output_type": "display_data"
    }
   ],
   "source": [
    "# let's now visualize this\n",
    "data_to_plot = pd.DataFrame.from_dict(features,orient ='index').reset_index()\n",
    "data_to_plot.columns = ['Variables','Importance Coefficients']\n",
    "data_to_plot = data_to_plot.sort_values('Importance Coefficients', ascending=False )\n",
    "\n",
    "plt.figure(figsize=(16, 8))\n",
    "sns.barplot(\n",
    "    x='Variables', y='Importance Coefficients',\n",
    "    data=data_to_plot, palette='Blues_r')\n",
    "plt.xticks(\n",
    "    range(len(data_to_plot)),\n",
    "    data_to_plot['Variables'], rotation='45', size=20)\n",
    "plt.xlabel('Variables', fontsize=30)\n",
    "plt.ylabel('Coeff', fontsize=30)\n",
    "plt.tight_layout()\n",
    "plt.show()"
   ]
  },
  {
   "cell_type": "code",
   "execution_count": 36,
   "metadata": {
    "slideshow": {
     "slide_type": "-"
    }
   },
   "outputs": [],
   "source": []
  },
  {
   "cell_type": "code",
   "execution_count": 18,
   "metadata": {},
   "outputs": [],
   "source": [
    "def plot_boundaries(X,y,model,n):\n",
    "        \n",
    "    from itertools import combinations\n",
    "    n_elms = max(y.shape[0],1000) # only plot 1000 elements from each class\n",
    "    \n",
    "    n_cols = np.ceil(np.sqrt(n))\n",
    "    n_rows = np.ceil(n / n_cols)\n",
    "\n",
    "    names = X.columns\n",
    "    combos = [c for c in combinations(range(X.shape[1]), 2) ]\n",
    "    \n",
    "    W = model.coef_[0]\n",
    "        \n",
    "\n",
    "    b = model.intercept_\n",
    "    \n",
    "    for c in enumerate(combos[:n]):\n",
    "        x_idx = c[1][0]\n",
    "        y_idx = c[1][1]\n",
    "        plot_num = c[0]\n",
    "            \n",
    "            \n",
    "        print('subplot{} {}: {}'.format(n_rows,n_cols,c[0]))\n",
    "        plt.subplot(n_rows,n_cols,c[0]+1)\n",
    "        plt.scatter(X.iloc[:n_elms, x_idx],\n",
    "                    X.iloc[:n_elms, y_idx],\n",
    "                    c=y[:n_elms], edgecolors='k',\n",
    "                    alpha = .3, cmap=plt.cm.binary)\n",
    "        \n",
    "        ax = plt.gca()\n",
    "\n",
    "        x_values = np.array(ax.get_xlim())\n",
    "        y_values = -(b + np.dot(W[x_idx],x_values)) / W[y_idx]\n",
    "\n",
    "        plt.plot(x_values, y_values )\n",
    "\n",
    "\n",
    "        plt.xticks(())\n",
    "        plt.xlabel(names[x_idx])\n",
    "        plt.yticks(())\n",
    "        plt.ylabel(names[y_idx])\n",
    "    plt.show()\n",
    "\n",
    "    \n",
    "    \n",
    "    \n",
    "    \n",
    "    \n",
    "    \n",
    "    "
   ]
  },
  {
   "cell_type": "code",
   "execution_count": 19,
   "metadata": {},
   "outputs": [
    {
     "name": "stdout",
     "output_type": "stream",
     "text": [
      "subplot2.0 2.0: 0\n"
     ]
    },
    {
     "name": "stderr",
     "output_type": "stream",
     "text": [
      "/Users/felixbartsch/opt/anaconda3/lib/python3.7/site-packages/matplotlib/colors.py:278: RuntimeWarning: invalid value encountered in less\n",
      "  if np.any((result < 0) | (result > 1)):\n",
      "/Users/felixbartsch/opt/anaconda3/lib/python3.7/site-packages/matplotlib/colors.py:278: RuntimeWarning: invalid value encountered in greater\n",
      "  if np.any((result < 0) | (result > 1)):\n"
     ]
    },
    {
     "ename": "ValueError",
     "evalue": "RGBA values should be within 0-1 range",
     "output_type": "error",
     "traceback": [
      "\u001b[0;31m---------------------------------------------------------------------------\u001b[0m",
      "\u001b[0;31mValueError\u001b[0m                                Traceback (most recent call last)",
      "\u001b[0;32m<ipython-input-19-9404481702cb>\u001b[0m in \u001b[0;36m<module>\u001b[0;34m\u001b[0m\n\u001b[0;32m----> 1\u001b[0;31m \u001b[0mplot_boundaries\u001b[0m\u001b[0;34m(\u001b[0m\u001b[0mfires\u001b[0m\u001b[0;34m,\u001b[0m\u001b[0mtop10\u001b[0m\u001b[0;34m,\u001b[0m\u001b[0mmdl\u001b[0m\u001b[0;34m,\u001b[0m\u001b[0;36m4\u001b[0m\u001b[0;34m)\u001b[0m\u001b[0;34m\u001b[0m\u001b[0;34m\u001b[0m\u001b[0m\n\u001b[0m",
      "\u001b[0;32m<ipython-input-18-132ac8fbdc85>\u001b[0m in \u001b[0;36mplot_boundaries\u001b[0;34m(X, y, model, n)\u001b[0m\n\u001b[1;32m     26\u001b[0m                     \u001b[0mX\u001b[0m\u001b[0;34m.\u001b[0m\u001b[0miloc\u001b[0m\u001b[0;34m[\u001b[0m\u001b[0;34m:\u001b[0m\u001b[0mn_elms\u001b[0m\u001b[0;34m,\u001b[0m \u001b[0my_idx\u001b[0m\u001b[0;34m]\u001b[0m\u001b[0;34m,\u001b[0m\u001b[0;34m\u001b[0m\u001b[0;34m\u001b[0m\u001b[0m\n\u001b[1;32m     27\u001b[0m                     \u001b[0mc\u001b[0m\u001b[0;34m=\u001b[0m\u001b[0my\u001b[0m\u001b[0;34m[\u001b[0m\u001b[0;34m:\u001b[0m\u001b[0mn_elms\u001b[0m\u001b[0;34m]\u001b[0m\u001b[0;34m,\u001b[0m \u001b[0medgecolors\u001b[0m\u001b[0;34m=\u001b[0m\u001b[0;34m'k'\u001b[0m\u001b[0;34m,\u001b[0m\u001b[0;34m\u001b[0m\u001b[0;34m\u001b[0m\u001b[0m\n\u001b[0;32m---> 28\u001b[0;31m                     alpha = .3, cmap=plt.cm.binary)\n\u001b[0m\u001b[1;32m     29\u001b[0m \u001b[0;34m\u001b[0m\u001b[0m\n\u001b[1;32m     30\u001b[0m         \u001b[0max\u001b[0m \u001b[0;34m=\u001b[0m \u001b[0mplt\u001b[0m\u001b[0;34m.\u001b[0m\u001b[0mgca\u001b[0m\u001b[0;34m(\u001b[0m\u001b[0;34m)\u001b[0m\u001b[0;34m\u001b[0m\u001b[0;34m\u001b[0m\u001b[0m\n",
      "\u001b[0;32m~/opt/anaconda3/lib/python3.7/site-packages/matplotlib/pyplot.py\u001b[0m in \u001b[0;36mscatter\u001b[0;34m(x, y, s, c, marker, cmap, norm, vmin, vmax, alpha, linewidths, verts, edgecolors, plotnonfinite, data, **kwargs)\u001b[0m\n\u001b[1;32m   2845\u001b[0m         \u001b[0mverts\u001b[0m\u001b[0;34m=\u001b[0m\u001b[0mverts\u001b[0m\u001b[0;34m,\u001b[0m \u001b[0medgecolors\u001b[0m\u001b[0;34m=\u001b[0m\u001b[0medgecolors\u001b[0m\u001b[0;34m,\u001b[0m\u001b[0;34m\u001b[0m\u001b[0;34m\u001b[0m\u001b[0m\n\u001b[1;32m   2846\u001b[0m         plotnonfinite=plotnonfinite, **({\"data\": data} if data is not\n\u001b[0;32m-> 2847\u001b[0;31m         None else {}), **kwargs)\n\u001b[0m\u001b[1;32m   2848\u001b[0m     \u001b[0msci\u001b[0m\u001b[0;34m(\u001b[0m\u001b[0m__ret\u001b[0m\u001b[0;34m)\u001b[0m\u001b[0;34m\u001b[0m\u001b[0;34m\u001b[0m\u001b[0m\n\u001b[1;32m   2849\u001b[0m     \u001b[0;32mreturn\u001b[0m \u001b[0m__ret\u001b[0m\u001b[0;34m\u001b[0m\u001b[0;34m\u001b[0m\u001b[0m\n",
      "\u001b[0;32m~/opt/anaconda3/lib/python3.7/site-packages/matplotlib/__init__.py\u001b[0m in \u001b[0;36minner\u001b[0;34m(ax, data, *args, **kwargs)\u001b[0m\n\u001b[1;32m   1599\u001b[0m     \u001b[0;32mdef\u001b[0m \u001b[0minner\u001b[0m\u001b[0;34m(\u001b[0m\u001b[0max\u001b[0m\u001b[0;34m,\u001b[0m \u001b[0;34m*\u001b[0m\u001b[0margs\u001b[0m\u001b[0;34m,\u001b[0m \u001b[0mdata\u001b[0m\u001b[0;34m=\u001b[0m\u001b[0;32mNone\u001b[0m\u001b[0;34m,\u001b[0m \u001b[0;34m**\u001b[0m\u001b[0mkwargs\u001b[0m\u001b[0;34m)\u001b[0m\u001b[0;34m:\u001b[0m\u001b[0;34m\u001b[0m\u001b[0;34m\u001b[0m\u001b[0m\n\u001b[1;32m   1600\u001b[0m         \u001b[0;32mif\u001b[0m \u001b[0mdata\u001b[0m \u001b[0;32mis\u001b[0m \u001b[0;32mNone\u001b[0m\u001b[0;34m:\u001b[0m\u001b[0;34m\u001b[0m\u001b[0;34m\u001b[0m\u001b[0m\n\u001b[0;32m-> 1601\u001b[0;31m             \u001b[0;32mreturn\u001b[0m \u001b[0mfunc\u001b[0m\u001b[0;34m(\u001b[0m\u001b[0max\u001b[0m\u001b[0;34m,\u001b[0m \u001b[0;34m*\u001b[0m\u001b[0mmap\u001b[0m\u001b[0;34m(\u001b[0m\u001b[0msanitize_sequence\u001b[0m\u001b[0;34m,\u001b[0m \u001b[0margs\u001b[0m\u001b[0;34m)\u001b[0m\u001b[0;34m,\u001b[0m \u001b[0;34m**\u001b[0m\u001b[0mkwargs\u001b[0m\u001b[0;34m)\u001b[0m\u001b[0;34m\u001b[0m\u001b[0;34m\u001b[0m\u001b[0m\n\u001b[0m\u001b[1;32m   1602\u001b[0m \u001b[0;34m\u001b[0m\u001b[0m\n\u001b[1;32m   1603\u001b[0m         \u001b[0mbound\u001b[0m \u001b[0;34m=\u001b[0m \u001b[0mnew_sig\u001b[0m\u001b[0;34m.\u001b[0m\u001b[0mbind\u001b[0m\u001b[0;34m(\u001b[0m\u001b[0max\u001b[0m\u001b[0;34m,\u001b[0m \u001b[0;34m*\u001b[0m\u001b[0margs\u001b[0m\u001b[0;34m,\u001b[0m \u001b[0;34m**\u001b[0m\u001b[0mkwargs\u001b[0m\u001b[0;34m)\u001b[0m\u001b[0;34m\u001b[0m\u001b[0;34m\u001b[0m\u001b[0m\n",
      "\u001b[0;32m~/opt/anaconda3/lib/python3.7/site-packages/matplotlib/axes/_axes.py\u001b[0m in \u001b[0;36mscatter\u001b[0;34m(self, x, y, s, c, marker, cmap, norm, vmin, vmax, alpha, linewidths, verts, edgecolors, plotnonfinite, **kwargs)\u001b[0m\n\u001b[1;32m   4496\u001b[0m                 \u001b[0moffsets\u001b[0m\u001b[0;34m=\u001b[0m\u001b[0moffsets\u001b[0m\u001b[0;34m,\u001b[0m\u001b[0;34m\u001b[0m\u001b[0;34m\u001b[0m\u001b[0m\n\u001b[1;32m   4497\u001b[0m                 \u001b[0mtransOffset\u001b[0m\u001b[0;34m=\u001b[0m\u001b[0mkwargs\u001b[0m\u001b[0;34m.\u001b[0m\u001b[0mpop\u001b[0m\u001b[0;34m(\u001b[0m\u001b[0;34m'transform'\u001b[0m\u001b[0;34m,\u001b[0m \u001b[0mself\u001b[0m\u001b[0;34m.\u001b[0m\u001b[0mtransData\u001b[0m\u001b[0;34m)\u001b[0m\u001b[0;34m,\u001b[0m\u001b[0;34m\u001b[0m\u001b[0;34m\u001b[0m\u001b[0m\n\u001b[0;32m-> 4498\u001b[0;31m                 \u001b[0malpha\u001b[0m\u001b[0;34m=\u001b[0m\u001b[0malpha\u001b[0m\u001b[0;34m\u001b[0m\u001b[0;34m\u001b[0m\u001b[0m\n\u001b[0m\u001b[1;32m   4499\u001b[0m                 )\n\u001b[1;32m   4500\u001b[0m         \u001b[0mcollection\u001b[0m\u001b[0;34m.\u001b[0m\u001b[0mset_transform\u001b[0m\u001b[0;34m(\u001b[0m\u001b[0mmtransforms\u001b[0m\u001b[0;34m.\u001b[0m\u001b[0mIdentityTransform\u001b[0m\u001b[0;34m(\u001b[0m\u001b[0;34m)\u001b[0m\u001b[0;34m)\u001b[0m\u001b[0;34m\u001b[0m\u001b[0;34m\u001b[0m\u001b[0m\n",
      "\u001b[0;32m~/opt/anaconda3/lib/python3.7/site-packages/matplotlib/collections.py\u001b[0m in \u001b[0;36m__init__\u001b[0;34m(self, paths, sizes, **kwargs)\u001b[0m\n\u001b[1;32m    881\u001b[0m         \"\"\"\n\u001b[1;32m    882\u001b[0m \u001b[0;34m\u001b[0m\u001b[0m\n\u001b[0;32m--> 883\u001b[0;31m         \u001b[0mCollection\u001b[0m\u001b[0;34m.\u001b[0m\u001b[0m__init__\u001b[0m\u001b[0;34m(\u001b[0m\u001b[0mself\u001b[0m\u001b[0;34m,\u001b[0m \u001b[0;34m**\u001b[0m\u001b[0mkwargs\u001b[0m\u001b[0;34m)\u001b[0m\u001b[0;34m\u001b[0m\u001b[0;34m\u001b[0m\u001b[0m\n\u001b[0m\u001b[1;32m    884\u001b[0m         \u001b[0mself\u001b[0m\u001b[0;34m.\u001b[0m\u001b[0mset_paths\u001b[0m\u001b[0;34m(\u001b[0m\u001b[0mpaths\u001b[0m\u001b[0;34m)\u001b[0m\u001b[0;34m\u001b[0m\u001b[0;34m\u001b[0m\u001b[0m\n\u001b[1;32m    885\u001b[0m         \u001b[0mself\u001b[0m\u001b[0;34m.\u001b[0m\u001b[0mset_sizes\u001b[0m\u001b[0;34m(\u001b[0m\u001b[0msizes\u001b[0m\u001b[0;34m)\u001b[0m\u001b[0;34m\u001b[0m\u001b[0;34m\u001b[0m\u001b[0m\n",
      "\u001b[0;32m~/opt/anaconda3/lib/python3.7/site-packages/matplotlib/collections.py\u001b[0m in \u001b[0;36m__init__\u001b[0;34m(self, edgecolors, facecolors, linewidths, linestyles, capstyle, joinstyle, antialiaseds, offsets, transOffset, norm, cmap, pickradius, hatch, urls, offset_position, zorder, **kwargs)\u001b[0m\n\u001b[1;32m    125\u001b[0m \u001b[0;34m\u001b[0m\u001b[0m\n\u001b[1;32m    126\u001b[0m         \u001b[0mself\u001b[0m\u001b[0;34m.\u001b[0m\u001b[0m_hatch_color\u001b[0m \u001b[0;34m=\u001b[0m \u001b[0mmcolors\u001b[0m\u001b[0;34m.\u001b[0m\u001b[0mto_rgba\u001b[0m\u001b[0;34m(\u001b[0m\u001b[0mmpl\u001b[0m\u001b[0;34m.\u001b[0m\u001b[0mrcParams\u001b[0m\u001b[0;34m[\u001b[0m\u001b[0;34m'hatch.color'\u001b[0m\u001b[0;34m]\u001b[0m\u001b[0;34m)\u001b[0m\u001b[0;34m\u001b[0m\u001b[0;34m\u001b[0m\u001b[0m\n\u001b[0;32m--> 127\u001b[0;31m         \u001b[0mself\u001b[0m\u001b[0;34m.\u001b[0m\u001b[0mset_facecolor\u001b[0m\u001b[0;34m(\u001b[0m\u001b[0mfacecolors\u001b[0m\u001b[0;34m)\u001b[0m\u001b[0;34m\u001b[0m\u001b[0;34m\u001b[0m\u001b[0m\n\u001b[0m\u001b[1;32m    128\u001b[0m         \u001b[0mself\u001b[0m\u001b[0;34m.\u001b[0m\u001b[0mset_edgecolor\u001b[0m\u001b[0;34m(\u001b[0m\u001b[0medgecolors\u001b[0m\u001b[0;34m)\u001b[0m\u001b[0;34m\u001b[0m\u001b[0;34m\u001b[0m\u001b[0m\n\u001b[1;32m    129\u001b[0m         \u001b[0mself\u001b[0m\u001b[0;34m.\u001b[0m\u001b[0mset_linewidth\u001b[0m\u001b[0;34m(\u001b[0m\u001b[0mlinewidths\u001b[0m\u001b[0;34m)\u001b[0m\u001b[0;34m\u001b[0m\u001b[0;34m\u001b[0m\u001b[0m\n",
      "\u001b[0;32m~/opt/anaconda3/lib/python3.7/site-packages/matplotlib/collections.py\u001b[0m in \u001b[0;36mset_facecolor\u001b[0;34m(self, c)\u001b[0m\n\u001b[1;32m    676\u001b[0m         \"\"\"\n\u001b[1;32m    677\u001b[0m         \u001b[0mself\u001b[0m\u001b[0;34m.\u001b[0m\u001b[0m_original_facecolor\u001b[0m \u001b[0;34m=\u001b[0m \u001b[0mc\u001b[0m\u001b[0;34m\u001b[0m\u001b[0;34m\u001b[0m\u001b[0m\n\u001b[0;32m--> 678\u001b[0;31m         \u001b[0mself\u001b[0m\u001b[0;34m.\u001b[0m\u001b[0m_set_facecolor\u001b[0m\u001b[0;34m(\u001b[0m\u001b[0mc\u001b[0m\u001b[0;34m)\u001b[0m\u001b[0;34m\u001b[0m\u001b[0;34m\u001b[0m\u001b[0m\n\u001b[0m\u001b[1;32m    679\u001b[0m \u001b[0;34m\u001b[0m\u001b[0m\n\u001b[1;32m    680\u001b[0m     \u001b[0;32mdef\u001b[0m \u001b[0mget_facecolor\u001b[0m\u001b[0;34m(\u001b[0m\u001b[0mself\u001b[0m\u001b[0;34m)\u001b[0m\u001b[0;34m:\u001b[0m\u001b[0;34m\u001b[0m\u001b[0;34m\u001b[0m\u001b[0m\n",
      "\u001b[0;32m~/opt/anaconda3/lib/python3.7/site-packages/matplotlib/collections.py\u001b[0m in \u001b[0;36m_set_facecolor\u001b[0;34m(self, c)\u001b[0m\n\u001b[1;32m    659\u001b[0m         \u001b[0;32mexcept\u001b[0m \u001b[0mAttributeError\u001b[0m\u001b[0;34m:\u001b[0m\u001b[0;34m\u001b[0m\u001b[0;34m\u001b[0m\u001b[0m\n\u001b[1;32m    660\u001b[0m             \u001b[0;32mpass\u001b[0m\u001b[0;34m\u001b[0m\u001b[0;34m\u001b[0m\u001b[0m\n\u001b[0;32m--> 661\u001b[0;31m         \u001b[0mself\u001b[0m\u001b[0;34m.\u001b[0m\u001b[0m_facecolors\u001b[0m \u001b[0;34m=\u001b[0m \u001b[0mmcolors\u001b[0m\u001b[0;34m.\u001b[0m\u001b[0mto_rgba_array\u001b[0m\u001b[0;34m(\u001b[0m\u001b[0mc\u001b[0m\u001b[0;34m,\u001b[0m \u001b[0mself\u001b[0m\u001b[0;34m.\u001b[0m\u001b[0m_alpha\u001b[0m\u001b[0;34m)\u001b[0m\u001b[0;34m\u001b[0m\u001b[0;34m\u001b[0m\u001b[0m\n\u001b[0m\u001b[1;32m    662\u001b[0m         \u001b[0mself\u001b[0m\u001b[0;34m.\u001b[0m\u001b[0mstale\u001b[0m \u001b[0;34m=\u001b[0m \u001b[0;32mTrue\u001b[0m\u001b[0;34m\u001b[0m\u001b[0;34m\u001b[0m\u001b[0m\n\u001b[1;32m    663\u001b[0m \u001b[0;34m\u001b[0m\u001b[0m\n",
      "\u001b[0;32m~/opt/anaconda3/lib/python3.7/site-packages/matplotlib/colors.py\u001b[0m in \u001b[0;36mto_rgba_array\u001b[0;34m(c, alpha)\u001b[0m\n\u001b[1;32m    277\u001b[0m             \u001b[0mresult\u001b[0m\u001b[0;34m[\u001b[0m\u001b[0mmask\u001b[0m\u001b[0;34m]\u001b[0m \u001b[0;34m=\u001b[0m \u001b[0;36m0\u001b[0m\u001b[0;34m\u001b[0m\u001b[0;34m\u001b[0m\u001b[0m\n\u001b[1;32m    278\u001b[0m         \u001b[0;32mif\u001b[0m \u001b[0mnp\u001b[0m\u001b[0;34m.\u001b[0m\u001b[0many\u001b[0m\u001b[0;34m(\u001b[0m\u001b[0;34m(\u001b[0m\u001b[0mresult\u001b[0m \u001b[0;34m<\u001b[0m \u001b[0;36m0\u001b[0m\u001b[0;34m)\u001b[0m \u001b[0;34m|\u001b[0m \u001b[0;34m(\u001b[0m\u001b[0mresult\u001b[0m \u001b[0;34m>\u001b[0m \u001b[0;36m1\u001b[0m\u001b[0;34m)\u001b[0m\u001b[0;34m)\u001b[0m\u001b[0;34m:\u001b[0m\u001b[0;34m\u001b[0m\u001b[0;34m\u001b[0m\u001b[0m\n\u001b[0;32m--> 279\u001b[0;31m             \u001b[0;32mraise\u001b[0m \u001b[0mValueError\u001b[0m\u001b[0;34m(\u001b[0m\u001b[0;34m\"RGBA values should be within 0-1 range\"\u001b[0m\u001b[0;34m)\u001b[0m\u001b[0;34m\u001b[0m\u001b[0;34m\u001b[0m\u001b[0m\n\u001b[0m\u001b[1;32m    280\u001b[0m         \u001b[0;32mreturn\u001b[0m \u001b[0mresult\u001b[0m\u001b[0;34m\u001b[0m\u001b[0;34m\u001b[0m\u001b[0m\n\u001b[1;32m    281\u001b[0m     \u001b[0;31m# Handle single values.\u001b[0m\u001b[0;34m\u001b[0m\u001b[0;34m\u001b[0m\u001b[0;34m\u001b[0m\u001b[0m\n",
      "\u001b[0;31mValueError\u001b[0m: RGBA values should be within 0-1 range"
     ]
    },
    {
     "data": {
      "image/png": "[encoded data removed]",
      "text/plain": [
       "<Figure size 432x288 with 1 Axes>"
      ]
     },
     "metadata": {
      "needs_background": "light"
     },
     "output_type": "display_data"
    }
   ],
   "source": [
    "plot_boundaries(fires,top10,mdl,4)"
   ]
  },
  {
   "cell_type": "code",
   "execution_count": null,
   "metadata": {},
   "outputs": [],
   "source": []
  }
 ],
 "metadata": {
  "kernelspec": {
   "display_name": "Python 3",
   "language": "python",
   "name": "python3"
  },
  "language_info": {
   "codemirror_mode": {
    "name": "ipython",
    "version": 3
   },
   "file_extension": ".py",
   "mimetype": "text/x-python",
   "name": "python",
   "nbconvert_exporter": "python",
   "pygments_lexer": "ipython3",
   "version": "3.8.2"
  }
 },
 "nbformat": 4,
 "nbformat_minor": 4
}
