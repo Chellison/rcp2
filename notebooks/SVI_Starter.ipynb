{
 "cells": [
  {
   "cell_type": "markdown",
   "metadata": {},
   "source": [
    "# DataKind Red Cross Project NFIRS-SVI Quickstart \n",
    "\n"
   ]
  },
  {
   "cell_type": "code",
   "execution_count": null,
   "metadata": {},
   "outputs": [],
   "source": [
    "from pathlib import Path\n",
    "import pandas as pd\n",
    "import numpy as np\n",
    "import matplotlib.pyplot as plt\n",
    "import seaborn as sns\n",
    "\n",
    "%matplotlib inline\n",
    "pd.set_option('display.max_columns',500)\n",
    "sns.set()"
   ]
  },
  {
   "cell_type": "code",
   "execution_count": null,
   "metadata": {},
   "outputs": [],
   "source": [
    "# Data Import and Cleaning"
   ]
  },
  {
   "cell_type": "code",
   "execution_count": null,
   "metadata": {},
   "outputs": [],
   "source": [
    "p = Path.cwd()\n",
    "data_path = p.parent / 'data' / 'Master Project Data' \n",
    "nfirs_path =  data_path / 'NFIRS Fire Incident Data.csv'\n",
    "\n",
    "\n",
    "svi2016_path = data_path  / 'SVI Tract Data.csv'\n",
    "svi2016_top = pd.read_csv(svi2016_path,nrows=1000)\n",
    "\n",
    "svi_col_dtypes = {'ST':str,'STCNTY':str,'FIPS':str}\n",
    "\n",
    "svi2016 = pd.read_csv(svi2016_path,\n",
    "                     index_col=0,\n",
    "                     dtype = svi_col_dtypes)\n",
    "\n",
    "p = Path.cwd()\n",
    "data_path = p.parent / 'data' / 'Master Project Data' \n",
    "nfirs_path =  data_path / 'NFIRS Fire Incident Data.csv'\n",
    "\n",
    "cols_to_use = ['State','FDID','City','Zip','inc_date','oth_inj','oth_death','prop_loss',\n",
    "               'cont_loss','tot_loss','GEOID']\n",
    "col_dtypes = {'GEOID':str}\n",
    "\n",
    "nfirs = pd.read_csv(nfirs_path,\n",
    "                    dtype = col_dtypes,\n",
    "                    usecols = cols_to_use,\n",
    "                    encoding='latin-1')\n",
    "\n",
    "nfirs['inc_date'] = pd.to_datetime(nfirs['inc_date'], infer_datetime_format=True)\n"
   ]
  },
  {
   "cell_type": "code",
   "execution_count": null,
   "metadata": {},
   "outputs": [],
   "source": []
  },
  {
   "cell_type": "code",
   "execution_count": null,
   "metadata": {},
   "outputs": [],
   "source": [
    "# Add the severe fire column to the dataset\n",
    "sev_fire_mask = (nfirs['oth_death'] > 0) | (nfirs['oth_inj'] > 0) | (nfirs['tot_loss'] >= 10000)\n",
    "nfirs['severe_fire'] = 'not_sev_fire'\n",
    "nfirs.loc[sev_fire_mask,'severe_fire'] = 'sev_fire'"
   ]
  },
  {
   "cell_type": "code",
   "execution_count": null,
   "metadata": {},
   "outputs": [],
   "source": [
    "nfirs['had_inj'] = np.where(nfirs['oth_inj']>0,'had_inj','no_inj')\n",
    "nfirs['had_death'] = np.where(nfirs['oth_death']>0,'had_death','no_death')\n",
    "nfirs['10k_loss'] = np.where(nfirs['tot_loss']>=10000,'had_10k_loss','no_10k_loss')"
   ]
  },
  {
   "cell_type": "markdown",
   "metadata": {},
   "source": [
    "## Fix GEOIDs (add leading zeros to correct columns)"
   ]
  },
  {
   "cell_type": "code",
   "execution_count": null,
   "metadata": {},
   "outputs": [],
   "source": [
    "nfirs['GEOID'] = (nfirs['GEOID'].str[:-2]\n",
    "                  .str.zfill(11))"
   ]
  },
  {
   "cell_type": "code",
   "execution_count": null,
   "metadata": {},
   "outputs": [],
   "source": [
    "# Add a year column to be used to groupby in addition to GEOID\n",
    "nfirs['year'] = nfirs['inc_date'].dt.year"
   ]
  },
  {
   "cell_type": "code",
   "execution_count": null,
   "metadata": {},
   "outputs": [],
   "source": []
  }
 ],
 "metadata": {
  "kernelspec": {
   "display_name": "Python 3",
   "language": "python",
   "name": "python3"
  },
  "language_info": {
   "codemirror_mode": {
    "name": "ipython",
    "version": 3
   },
   "file_extension": ".py",
   "mimetype": "text/x-python",
   "name": "python",
   "nbconvert_exporter": "python",
   "pygments_lexer": "ipython3",
   "version": "3.6.4"
  }
 },
 "nbformat": 4,
 "nbformat_minor": 2
}
