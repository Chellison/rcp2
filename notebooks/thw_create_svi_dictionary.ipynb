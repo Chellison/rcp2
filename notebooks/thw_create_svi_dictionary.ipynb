{
 "cells": [
  {
   "cell_type": "markdown",
   "metadata": {},
   "source": [
    "# Create SVI Data Dictionary\n",
    "This code just parses the SVI 2016 documentation to grab the variable names and descriptions and saves it to a json file \"svi_dictionary.json\""
   ]
  },
  {
   "cell_type": "code",
   "execution_count": 50,
   "metadata": {},
   "outputs": [],
   "source": [
    "with open('../data/raw/SVI2016_US_raw_data_dictionary.txt','r') as f:\n",
    "    data = f.readlines()"
   ]
  },
  {
   "cell_type": "code",
   "execution_count": 51,
   "metadata": {},
   "outputs": [],
   "source": [
    "svi_dict = {}\n",
    "for idx,line in enumerate(data):\n",
    "    if line.startswith('E_') or line.startswith('EP_') or line.startswith('EPL_') or line.startswith('F_'):\n",
    "        val = line.split()[0]\n",
    "        if val in svi_dict:\n",
    "            continue\n",
    "        if line.split(' ')[0].endswith('\\n'):\n",
    "            svi_dict[val] = data[idx+1].strip()\n",
    "        else:\n",
    "            svi_dict[val] = line.split(' ',1)[1].strip()"
   ]
  },
  {
   "cell_type": "code",
   "execution_count": 52,
   "metadata": {},
   "outputs": [
    {
     "data": {
      "text/plain": [
       "{'E_TOTPOP': 'Population estimate, 2012-2016 ACS',\n",
       " 'E_HU': 'Housing units estimate, 2012-2016 ACS',\n",
       " 'E_HH': 'Households estimate, 2012-2016 ACS',\n",
       " 'E_POV': 'Persons below poverty estimate, 2012-2016 ACS',\n",
       " 'E_UNEMP': 'Civilian (age 16+) unemployed estimate, 2012-2016 ACS',\n",
       " 'E_PCI': 'Per capita income estimate, 2012-2016 ACS',\n",
       " 'E_NOHSDP': 'Persons (age 25+) with no high school diploma estimate, 2012-2016 ACS',\n",
       " 'E_AGE65': 'Persons aged 65 and older estimate, 2012-2016 ACS',\n",
       " 'E_AGE17': 'Persons aged 17 and younger estimate, 2012-2016 ACS',\n",
       " 'E_DISABL': 'Civilian noninstitutionalized population with a disability estimate, 2012-2016 ACS',\n",
       " 'E_SNGPNT': 'Single parent household with children under 18 estimate, 2012-2016 ACS',\n",
       " 'E_MINRTY': 'Minority (all persons except white, non-Hispanic) estimate, 2012-2016 ACS',\n",
       " 'E_LIMENG': 'Persons (age 5+) who speak English \"less than well\" estimate, 2012-2016 ACS',\n",
       " 'E_MUNIT': 'Housing in structures with 10 or more units estimate, 2012-2016 ACS',\n",
       " 'E_MOBILE': 'Mobile homes estimate, 2012-2016 ACS',\n",
       " 'E_CROWD': 'At household level (occupied housing units), more people than rooms estimate, 2012-2016 ACS',\n",
       " 'E_NOVEH': 'Households with no vehicle available estimate, 2012-2016 ACS',\n",
       " 'E_GROUPQ': 'Persons in institutionalized group quarters estimate, 2012-2016 ACS',\n",
       " 'EP_POV': 'Percentage of persons below poverty estimate',\n",
       " 'EP_UNEMP': 'Percentage of civilian (age 16+) unemployed estimate',\n",
       " 'EP_PCI': 'Per capita income estimate, 2012-2016 ACS',\n",
       " 'EP_NOHSDP': 'Percentage of persons with no high school diploma (age 25+) estimate',\n",
       " 'EP_AGE65': 'Percentage of persons aged 65 and older estimate, 2012-2016 ACS',\n",
       " 'EP_AGE17': 'Percentage of persons aged 17 and younger estimate, 2012-2016 ACS',\n",
       " 'EP_DISABL': 'Percentage of civilian noninstitutionalized population with a disability estimate, 2012-2016 ACS',\n",
       " 'EP_SNGPNT': 'Percentage of single parent households with children under 18 estimate, 2012-2016 ACS',\n",
       " 'EP_MINRTY': 'Percentage minority (all persons except white, non-Hispanic) estimate, 2012-2016 ACS',\n",
       " 'EP_LIMENG': 'Percentage of persons (age 5+) who speak English \"less than well\" estimate, 2012-2016 ACS',\n",
       " 'EP_MUNIT': 'Percentage of housing in structures with 10 or more units estimate',\n",
       " 'EP_MOBILE': 'Percentage of mobile homes estimate',\n",
       " 'EP_CROWD': 'Percentage of occupied housing units with more people than rooms estimate',\n",
       " 'EP_GROUPQ': 'Percentage of persons in institutionalized group quarters estimate, 2012-2016 ACS',\n",
       " 'EPL_POV': 'Percentile Percentage of persons below poverty estimate',\n",
       " 'EPL_UNEMP': 'Percentile Percentage of civilian (age 16+) unemployed estimate',\n",
       " 'EPL_PCI': 'Percentile per capita income estimate',\n",
       " 'EPL_AGE65': 'Percentile percentage of persons aged 65 and older estimate',\n",
       " 'EPL_AGE17': 'Percentile percentage of persons aged 17 and younger estimate',\n",
       " 'EPL_DISABL': 'Percentile percentage of civilian noninstitutionalized population with a disability estimate',\n",
       " 'EPL_SNGPNT': 'Percentile percentage of single parent households with children under 18 estimate',\n",
       " 'EPL_MINRTY': 'Percentile percentage minority (all persons except white, non-Hispanic) estimate',\n",
       " 'EPL_LIMENG': 'Percentile percentage of persons (age 5+) who speak English \"less than well\" estimate',\n",
       " 'EPL_MUNIT': 'Percentile percentage housing in structures with 10 or more units estimate',\n",
       " 'EPL_MOBILE': 'Percentile percentage mobile homes estimate',\n",
       " 'EPL_CROWD': 'Percentile percentage households with more people than rooms estimate',\n",
       " 'EPL_NOVEH': 'Percentile percentage households with no vehicle available estimate',\n",
       " 'EPL_GROUPQ': 'Percentile percentage of persons in institutionalized group quarters estimate',\n",
       " 'F_UNEMP': 'Flag - the percentage of civilian unemployed is in the 90th percentile (1 = yes, 0 = no)',\n",
       " 'F_PCI': 'Flag - per capita income is in the 90th percentile (1 = yes, 0 = no)',\n",
       " 'EPL_NOHSDIP': '>= 0.90',\n",
       " 'F_THEME1': 'Sum of flags for Socioeconomic Status theme',\n",
       " 'F_POV': '+ F_UNEMP + F_PCI + F_NOHSDP',\n",
       " 'F_AGE17': 'Flag - the percentage of persons aged 17 and younger is in the 90th percentile (1 = yes, 0 = no)',\n",
       " 'F_DISABL': 'Flag - the percentage of persons with a disability is in the 90th percentile (1 = yes, 0 = no)',\n",
       " 'F_SNGPNT': 'Flag - the percentage of single parent households is in the 90th percentile (1 = yes, 0 = no)',\n",
       " 'F_THEME2': 'Sum of flags for Household Composition theme',\n",
       " 'F_AGE65': '+ F_AGE17 + F_DISABL + F_SNGPNT',\n",
       " 'F_MINRTY': 'Flag - the percentage of minority is in the 90th percentile (1 = yes, 0 = no)',\n",
       " 'F_LIMENG': 'Flag - the percentage those with limited English is in the 90th percentile (1 = yes, 0 = no)',\n",
       " 'F_THEME3': 'Sum of flags for Minority Status/Language theme',\n",
       " 'F_MUNIT': 'Flag - the percentage of households in multi-unit housing is in the 90th percentile (1 = yes, 0 = no)',\n",
       " 'F_MOBILE': 'Flag - the percentage of mobile homes is in the 90th percentile (1 = yes, 0 = no)',\n",
       " 'F_CROWD': 'Flag - the percentage of crowded households is in the 90th percentile (1 = yes, 0 = no)',\n",
       " 'F_NOVEH': 'Flag - the percentage of households with no vehicles is in the 90th percentile (1 = yes, 0 = no)',\n",
       " 'F_GROUPQ': 'Flag - the percentage of persons in institutionalized group quarters is in the 90th percentile (1 = yes, 0 = no)',\n",
       " 'F_THEME4': 'Sum of flags for Housing/Transportation theme',\n",
       " 'F_TOTAL': 'Sum of flags for the four themes',\n",
       " 'E_UNINSUR': 'Adjunct variable - Uninsured in the total civilian noninstitutionalized population estimate, 2012-2016 ACS',\n",
       " 'EP_UNINSUR': 'Adjunct variable - Percentage uninsured in the total civilian noninstitutionalized population estimate, 2012-2016 ACS',\n",
       " 'E_DAYPOP': 'Adjunct variable - Estimated daytime population, LandScan 2016',\n",
       " 'EP_NOVEH': 'Percentage of households with no vehicle available estimate'}"
      ]
     },
     "execution_count": 52,
     "metadata": {},
     "output_type": "execute_result"
    }
   ],
   "source": [
    "svi_dict"
   ]
  },
  {
   "cell_type": "code",
   "execution_count": 53,
   "metadata": {},
   "outputs": [],
   "source": [
    "import json"
   ]
  },
  {
   "cell_type": "code",
   "execution_count": 54,
   "metadata": {},
   "outputs": [],
   "source": [
    "with open('../data/raw/svi_dictionary.json','w') as f:\n",
    "    json.dump(svi_dict,f,indent=4)"
   ]
  }
 ],
 "metadata": {
  "kernelspec": {
   "display_name": "Python 3",
   "language": "python",
   "name": "python3"
  },
  "language_info": {
   "codemirror_mode": {
    "name": "ipython",
    "version": 3
   },
   "file_extension": ".py",
   "mimetype": "text/x-python",
   "name": "python",
   "nbconvert_exporter": "python",
   "pygments_lexer": "ipython3",
   "version": "3.6.8"
  }
 },
 "nbformat": 4,
 "nbformat_minor": 4
}
