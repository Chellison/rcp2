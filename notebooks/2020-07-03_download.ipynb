{
 "cells": [
  {
   "cell_type": "markdown",
   "metadata": {},
   "source": [
    "# Trying out the `src.data.download` module.\n",
    "\n",
    "This notebooks shows how the new module might help us download source data."
   ]
  },
  {
   "cell_type": "markdown",
   "metadata": {},
   "source": [
    "## 0. Set up."
   ]
  },
  {
   "cell_type": "code",
   "execution_count": 1,
   "metadata": {},
   "outputs": [],
   "source": [
    "import pandas as pd\n",
    "from src.data import download"
   ]
  },
  {
   "cell_type": "code",
   "execution_count": 2,
   "metadata": {},
   "outputs": [],
   "source": [
    "# Enable editing of the package with instant feedback.\n",
    "%load_ext autoreload\n",
    "%autoreload 2"
   ]
  },
  {
   "cell_type": "markdown",
   "metadata": {},
   "source": [
    "## 1. Download some data.\n",
    "\n",
    "Try downloading `nfirs.csv` the first time. Some notes:\n",
    "\n",
    "- `gdown` provides a some useful download status updates.\n",
    "- The function automatically creates `Data/raw/` if it doesn't exist."
   ]
  },
  {
   "cell_type": "code",
   "execution_count": 3,
   "metadata": {},
   "outputs": [
    {
     "name": "stderr",
     "output_type": "stream",
     "text": [
      "Downloading file 'nfirs.csv' from 'https://drive.google.com/uc?id=1ENJZwazX7hJ4GwI03DKgX51y-644x-cZ' to '/home/nathan/projects/rcp2/Data/raw'.\n",
      "Downloading...\n",
      "From: https://drive.google.com/uc?id=1ENJZwazX7hJ4GwI03DKgX51y-644x-cZ\n",
      "To: /home/nathan/projects/rcp2/Data/raw/tmpj0pc_tdg\n",
      "273MB [00:14, 18.7MB/s] \n"
     ]
    },
    {
     "data": {
      "text/plain": [
       "'/home/nathan/projects/rcp2/Data/raw/nfirs.csv'"
      ]
     },
     "execution_count": 3,
     "metadata": {},
     "output_type": "execute_result"
    }
   ],
   "source": [
    "# Download nfirs.csv for the first time. Takes a few seconds.\n",
    "fname = download.fetch(\"nfirs.csv\")\n",
    "fname"
   ]
  },
  {
   "cell_type": "markdown",
   "metadata": {},
   "source": [
    "Try downloading for the second time. The function recognizes that the file exists and skips the download."
   ]
  },
  {
   "cell_type": "code",
   "execution_count": 4,
   "metadata": {},
   "outputs": [
    {
     "data": {
      "text/plain": [
       "'/home/nathan/projects/rcp2/Data/raw/nfirs.csv'"
      ]
     },
     "execution_count": 4,
     "metadata": {},
     "output_type": "execute_result"
    }
   ],
   "source": [
    "# Skip the download this time.\n",
    "download.fetch(\"nfirs.csv\")"
   ]
  },
  {
   "cell_type": "code",
   "execution_count": 5,
   "metadata": {},
   "outputs": [
    {
     "name": "stderr",
     "output_type": "stream",
     "text": [
      "/home/nathan/anaconda3/envs/rcp2/lib/python3.8/site-packages/IPython/core/interactiveshell.py:3062: DtypeWarning: Columns (2) have mixed types.Specify dtype option on import or set low_memory=False.\n",
      "  has_raised = await self.run_ast_nodes(code_ast.body, cell_name,\n"
     ]
    },
    {
     "name": "stdout",
     "output_type": "stream",
     "text": [
      "<class 'pandas.core.frame.DataFrame'>\n",
      "RangeIndex: 1950641 entries, 0 to 1950640\n",
      "Columns: 29 entries, id to longitude\n",
      "dtypes: float64(3), int64(8), object(18)\n",
      "memory usage: 431.6+ MB\n"
     ]
    }
   ],
   "source": [
    "# The file looks ok.\n",
    "pd.read_csv(fname, encoding=\"latin-1\").info(verbose=False)"
   ]
  },
  {
   "cell_type": "markdown",
   "metadata": {},
   "source": [
    "## 3. Inspect available source data.\n",
    "\n",
    "You can register new raw data sources by adding them to `src.data.download.SOURCES`. Each entry has:\n",
    "\n",
    "- A downloader with special download steps (optional).\n",
    "- A SHA256 hash to verify download integrity.\n",
    "- A URL for the source data."
   ]
  },
  {
   "cell_type": "code",
   "execution_count": 6,
   "metadata": {},
   "outputs": [
    {
     "data": {
      "text/plain": [
       "{'nfirs.csv': {'downloader': 'download_from_google_drive',\n",
       "  'sha256': '0fcd2c4edae304dbb21c1b0dc6ca9afd17d7d65f21e51cd26571f9d42db7f825',\n",
       "  'url': 'https://drive.google.com/uc?id=1ENJZwazX7hJ4GwI03DKgX51y-644x-cZ'}}"
      ]
     },
     "execution_count": 6,
     "metadata": {},
     "output_type": "execute_result"
    }
   ],
   "source": [
    "download.SOURCES"
   ]
  }
 ],
 "metadata": {
  "kernelspec": {
   "display_name": "Python 3",
   "language": "python",
   "name": "python3"
  },
  "language_info": {
   "codemirror_mode": {
    "name": "ipython",
    "version": 3
   },
   "file_extension": ".py",
   "mimetype": "text/x-python",
   "name": "python",
   "nbconvert_exporter": "python",
   "pygments_lexer": "ipython3",
   "version": "3.8.3"
  }
 },
 "nbformat": 4,
 "nbformat_minor": 4
}
